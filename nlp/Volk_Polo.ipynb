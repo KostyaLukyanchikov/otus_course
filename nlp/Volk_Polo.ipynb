{
 "cells": [
  {
   "cell_type": "code",
   "execution_count": 1,
   "metadata": {},
   "outputs": [],
   "source": [
    "import pandas as pd\n",
    "import numpy as np\n",
    "import matplotlib.pyplot as plt\n",
    "import seaborn as sns\n",
    "\n",
    "from sklearn.preprocessing import StandardScaler, MinMaxScaler\n",
    "from sklearn.model_selection import train_test_split\n",
    "from sklearn.model_selection import GridSearchCV, RandomizedSearchCV\n",
    "\n",
    "from sklearn.metrics import confusion_matrix, classification_report\n",
    "from sklearn.metrics import accuracy_score, precision_score, recall_score, f1_score\n",
    "from sklearn import metrics\n",
    "\n",
    "from sklearn.ensemble import RandomForestRegressor\n",
    "from sklearn.linear_model import LinearRegression, RidgeCV, LassoCV, ElasticNetCV\n",
    "from sklearn.ensemble import RandomForestRegressor\n",
    "from sklearn.svm import SVC\n",
    "from xgboost import XGBClassifier"
   ]
  },
  {
   "cell_type": "code",
   "execution_count": 2,
   "metadata": {},
   "outputs": [],
   "source": [
    "pd.set_option('display.float_format', lambda x: '%.3f' % x)"
   ]
  },
  {
   "cell_type": "code",
   "execution_count": 3,
   "metadata": {},
   "outputs": [],
   "source": [
    "df = pd.read_csv('volk_polo_dataset.csv', index_col=0)"
   ]
  },
  {
   "cell_type": "code",
   "execution_count": 4,
   "metadata": {},
   "outputs": [
    {
     "data": {
      "text/html": [
       "<div>\n",
       "<style scoped>\n",
       "    .dataframe tbody tr th:only-of-type {\n",
       "        vertical-align: middle;\n",
       "    }\n",
       "\n",
       "    .dataframe tbody tr th {\n",
       "        vertical-align: top;\n",
       "    }\n",
       "\n",
       "    .dataframe thead th {\n",
       "        text-align: right;\n",
       "    }\n",
       "</style>\n",
       "<table border=\"1\" class=\"dataframe\">\n",
       "  <thead>\n",
       "    <tr style=\"text-align: right;\">\n",
       "      <th></th>\n",
       "      <th>new_or_used</th>\n",
       "      <th>двигатель</th>\n",
       "      <th>комплектация</th>\n",
       "      <th>коробка</th>\n",
       "      <th>кузов</th>\n",
       "      <th>налог</th>\n",
       "      <th>онлайн-показ</th>\n",
       "      <th>описание</th>\n",
       "      <th>привод</th>\n",
       "      <th>цвет</th>\n",
       "      <th>...</th>\n",
       "      <th>руль</th>\n",
       "      <th>состояние</th>\n",
       "      <th>таможня</th>\n",
       "      <th>госномер</th>\n",
       "      <th>владение</th>\n",
       "      <th>продаёт собственник</th>\n",
       "      <th>гарантия</th>\n",
       "      <th>на гарантии</th>\n",
       "      <th>проверенный автомобиль</th>\n",
       "      <th>медленно теряет вцене</th>\n",
       "    </tr>\n",
       "  </thead>\n",
       "  <tbody>\n",
       "    <tr>\n",
       "      <th>0</th>\n",
       "      <td>new</td>\n",
       "      <td>1.6 л / 110л.с. / бензин</td>\n",
       "      <td>respect</td>\n",
       "      <td>механическая</td>\n",
       "      <td>лифтбек</td>\n",
       "      <td>2750₽ / год</td>\n",
       "      <td>1.000</td>\n",
       "      <td>хотите получить дополнительную выгоду до 10%? ...</td>\n",
       "      <td>передний</td>\n",
       "      <td>серый</td>\n",
       "      <td>...</td>\n",
       "      <td>NaN</td>\n",
       "      <td>NaN</td>\n",
       "      <td>NaN</td>\n",
       "      <td>NaN</td>\n",
       "      <td>NaN</td>\n",
       "      <td>NaN</td>\n",
       "      <td>NaN</td>\n",
       "      <td>NaN</td>\n",
       "      <td>NaN</td>\n",
       "      <td>NaN</td>\n",
       "    </tr>\n",
       "    <tr>\n",
       "      <th>1</th>\n",
       "      <td>new</td>\n",
       "      <td>1.6 л / 110л.с. / бензин</td>\n",
       "      <td>exclusive</td>\n",
       "      <td>автоматическая</td>\n",
       "      <td>лифтбек</td>\n",
       "      <td>2750₽ / год</td>\n",
       "      <td>NaN</td>\n",
       "      <td>——————————————————————————— функциональное обо...</td>\n",
       "      <td>передний</td>\n",
       "      <td>чёрный</td>\n",
       "      <td>...</td>\n",
       "      <td>NaN</td>\n",
       "      <td>NaN</td>\n",
       "      <td>NaN</td>\n",
       "      <td>NaN</td>\n",
       "      <td>NaN</td>\n",
       "      <td>NaN</td>\n",
       "      <td>NaN</td>\n",
       "      <td>NaN</td>\n",
       "      <td>NaN</td>\n",
       "      <td>NaN</td>\n",
       "    </tr>\n",
       "    <tr>\n",
       "      <th>2</th>\n",
       "      <td>new</td>\n",
       "      <td>1.6 л / 110л.с. / бензин</td>\n",
       "      <td>respect</td>\n",
       "      <td>механическая</td>\n",
       "      <td>лифтбек</td>\n",
       "      <td>3740₽ / год</td>\n",
       "      <td>NaN</td>\n",
       "      <td>фольксваген центр подольск готов сделать вам п...</td>\n",
       "      <td>передний</td>\n",
       "      <td>белый</td>\n",
       "      <td>...</td>\n",
       "      <td>NaN</td>\n",
       "      <td>NaN</td>\n",
       "      <td>NaN</td>\n",
       "      <td>NaN</td>\n",
       "      <td>NaN</td>\n",
       "      <td>NaN</td>\n",
       "      <td>NaN</td>\n",
       "      <td>NaN</td>\n",
       "      <td>NaN</td>\n",
       "      <td>NaN</td>\n",
       "    </tr>\n",
       "    <tr>\n",
       "      <th>3</th>\n",
       "      <td>used</td>\n",
       "      <td>1.6 л / 105л.с. / бензин</td>\n",
       "      <td>NaN</td>\n",
       "      <td>механическая</td>\n",
       "      <td>седан</td>\n",
       "      <td>2625₽ / год</td>\n",
       "      <td>NaN</td>\n",
       "      <td>лот: 01244867 favorit motors kia мкад вы может...</td>\n",
       "      <td>передний</td>\n",
       "      <td>синий</td>\n",
       "      <td>...</td>\n",
       "      <td>левый</td>\n",
       "      <td>не требует ремонта</td>\n",
       "      <td>растаможен</td>\n",
       "      <td>NaN</td>\n",
       "      <td>NaN</td>\n",
       "      <td>NaN</td>\n",
       "      <td>NaN</td>\n",
       "      <td>NaN</td>\n",
       "      <td>NaN</td>\n",
       "      <td>NaN</td>\n",
       "    </tr>\n",
       "    <tr>\n",
       "      <th>4</th>\n",
       "      <td>new</td>\n",
       "      <td>1.6 л / 110л.с. / бензин</td>\n",
       "      <td>status</td>\n",
       "      <td>автоматическая</td>\n",
       "      <td>лифтбек</td>\n",
       "      <td>2750₽ / год</td>\n",
       "      <td>NaN</td>\n",
       "      <td>выгодные предложения на все комплектации и цве...</td>\n",
       "      <td>передний</td>\n",
       "      <td>коричневый</td>\n",
       "      <td>...</td>\n",
       "      <td>NaN</td>\n",
       "      <td>NaN</td>\n",
       "      <td>NaN</td>\n",
       "      <td>NaN</td>\n",
       "      <td>NaN</td>\n",
       "      <td>NaN</td>\n",
       "      <td>NaN</td>\n",
       "      <td>NaN</td>\n",
       "      <td>NaN</td>\n",
       "      <td>NaN</td>\n",
       "    </tr>\n",
       "  </tbody>\n",
       "</table>\n",
       "<p>5 rows × 29 columns</p>\n",
       "</div>"
      ],
      "text/plain": [
       "  new_or_used                 двигатель комплектация         коробка    кузов  \\\n",
       "0         new  1.6 л / 110л.с. / бензин      respect    механическая  лифтбек   \n",
       "1         new  1.6 л / 110л.с. / бензин    exclusive  автоматическая  лифтбек   \n",
       "2         new  1.6 л / 110л.с. / бензин      respect    механическая  лифтбек   \n",
       "3        used  1.6 л / 105л.с. / бензин          NaN    механическая    седан   \n",
       "4         new  1.6 л / 110л.с. / бензин       status  автоматическая  лифтбек   \n",
       "\n",
       "         налог  онлайн-показ  \\\n",
       "0  2750₽ / год         1.000   \n",
       "1  2750₽ / год           NaN   \n",
       "2  3740₽ / год           NaN   \n",
       "3  2625₽ / год           NaN   \n",
       "4  2750₽ / год           NaN   \n",
       "\n",
       "                                            описание    привод        цвет  \\\n",
       "0  хотите получить дополнительную выгоду до 10%? ...  передний       серый   \n",
       "1  ——————————————————————————— функциональное обо...  передний      чёрный   \n",
       "2  фольксваген центр подольск готов сделать вам п...  передний       белый   \n",
       "3  лот: 01244867 favorit motors kia мкад вы может...  передний       синий   \n",
       "4  выгодные предложения на все комплектации и цве...  передний  коричневый   \n",
       "\n",
       "   ...   руль           состояние     таможня госномер  владение  \\\n",
       "0  ...    NaN                 NaN         NaN      NaN       NaN   \n",
       "1  ...    NaN                 NaN         NaN      NaN       NaN   \n",
       "2  ...    NaN                 NaN         NaN      NaN       NaN   \n",
       "3  ...  левый  не требует ремонта  растаможен      NaN       NaN   \n",
       "4  ...    NaN                 NaN         NaN      NaN       NaN   \n",
       "\n",
       "   продаёт собственник гарантия на гарантии проверенный автомобиль  \\\n",
       "0                  NaN      NaN         NaN                    NaN   \n",
       "1                  NaN      NaN         NaN                    NaN   \n",
       "2                  NaN      NaN         NaN                    NaN   \n",
       "3                  NaN      NaN         NaN                    NaN   \n",
       "4                  NaN      NaN         NaN                    NaN   \n",
       "\n",
       "  медленно теряет вцене  \n",
       "0                   NaN  \n",
       "1                   NaN  \n",
       "2                   NaN  \n",
       "3                   NaN  \n",
       "4                   NaN  \n",
       "\n",
       "[5 rows x 29 columns]"
      ]
     },
     "execution_count": 4,
     "metadata": {},
     "output_type": "execute_result"
    }
   ],
   "source": [
    "df.head()"
   ]
  },
  {
   "cell_type": "code",
   "execution_count": 5,
   "metadata": {},
   "outputs": [
    {
     "data": {
      "text/plain": [
       "640"
      ]
     },
     "execution_count": 5,
     "metadata": {},
     "output_type": "execute_result"
    }
   ],
   "source": [
    "len(df)"
   ]
  },
  {
   "cell_type": "code",
   "execution_count": 6,
   "metadata": {},
   "outputs": [
    {
     "data": {
      "text/plain": [
       "Index(['new_or_used', 'двигатель', 'комплектация', 'коробка', 'кузов', 'налог',\n",
       "       'онлайн-показ', 'описание', 'привод', 'цвет', 'цена', '1 владелец',\n",
       "       'vin', 'владельцы', 'год выпуска', 'дтп ненайдены', 'обмен', 'пробег',\n",
       "       'птс', 'руль', 'состояние', 'таможня', 'госномер', 'владение',\n",
       "       'продаёт собственник', 'гарантия', 'на гарантии',\n",
       "       'проверенный автомобиль', 'медленно теряет вцене'],\n",
       "      dtype='object')"
      ]
     },
     "execution_count": 6,
     "metadata": {},
     "output_type": "execute_result"
    }
   ],
   "source": [
    "df.columns"
   ]
  },
  {
   "cell_type": "code",
   "execution_count": 7,
   "metadata": {},
   "outputs": [],
   "source": [
    "df = df.rename(columns={'владельцы': 'owners', 'год выпуска': 'year_of_release',\n",
    "                        'двигатель': 'engine', 'коробка': 'transmission',\n",
    "                        'кузов': 'car_type', 'налог': 'tax', 'привод': 'drive_type',\n",
    "                        'описание': 'description', 'пробег': 'mileage', 'птс': 'ptc',\n",
    "                        'руль': 'steering_wheel', 'состояние': 'condition', \n",
    "                        'таможня': 'customhouse', 'цвет': 'color', 'цена': 'price',\n",
    "                        'обмен': 'exchange', 'гарантия': 'guarantee', 'владение': 'ownership',\n",
    "                        'кузов №': 'body_type_number', 'запас хода': 'capacity reserve',\n",
    "                        'госномер': 'gos_num', 'кузов №': 'body_nomber', \n",
    "                        'дтп ненайдены': 'no_dtp', 'онлайн-показ': 'online_show',\n",
    "                        '1 владелец': 'one_owner', 'комплектация': 'equipment',\n",
    "                        'продаёт собственник': 'sells_owner', 'на гарантии': 'on_guarantee',\n",
    "                        'проверенный автомобиль': 'checked_auto', 'медленно теряет вцене': 'loses_price'})"
   ]
  },
  {
   "cell_type": "code",
   "execution_count": 8,
   "metadata": {},
   "outputs": [],
   "source": [
    "columns_to_remove = ['engine', 'drive_type', 'one_owner',\n",
    "                     'vin', 'steering_wheel', 'condition',\n",
    "                     'gos_num', 'ownership', 'guarantee', \n",
    "                     'on_guarantee', 'checked_auto', 'loses_price',\n",
    "                     'engine_type']"
   ]
  },
  {
   "cell_type": "code",
   "execution_count": 9,
   "metadata": {},
   "outputs": [
    {
     "data": {
      "text/plain": [
       "Index(['new_or_used', 'engine', 'equipment', 'transmission', 'car_type', 'tax',\n",
       "       'online_show', 'description', 'drive_type', 'color', 'price',\n",
       "       'one_owner', 'vin', 'owners', 'year_of_release', 'no_dtp', 'exchange',\n",
       "       'mileage', 'ptc', 'steering_wheel', 'condition', 'customhouse',\n",
       "       'gos_num', 'ownership', 'sells_owner', 'guarantee', 'on_guarantee',\n",
       "       'checked_auto', 'loses_price'],\n",
       "      dtype='object')"
      ]
     },
     "execution_count": 9,
     "metadata": {},
     "output_type": "execute_result"
    }
   ],
   "source": [
    "df.columns"
   ]
  },
  {
   "cell_type": "markdown",
   "metadata": {},
   "source": [
    "### Take nlp part"
   ]
  },
  {
   "cell_type": "code",
   "execution_count": 10,
   "metadata": {},
   "outputs": [],
   "source": [
    "nlp_part = df['description']\n",
    "df = df.drop(columns=['description'])"
   ]
  },
  {
   "cell_type": "markdown",
   "metadata": {},
   "source": [
    "### Mileage"
   ]
  },
  {
   "cell_type": "code",
   "execution_count": 11,
   "metadata": {},
   "outputs": [],
   "source": [
    "df.loc[df['new_or_used'] == 'new', 'mileage'] = 0"
   ]
  },
  {
   "cell_type": "code",
   "execution_count": 12,
   "metadata": {},
   "outputs": [],
   "source": [
    "df['mileage'] = df['mileage'].apply(lambda x: str(x).replace('км', '')).astype('int')"
   ]
  },
  {
   "cell_type": "markdown",
   "metadata": {},
   "source": [
    "### Engine"
   ]
  },
  {
   "cell_type": "code",
   "execution_count": 13,
   "metadata": {},
   "outputs": [],
   "source": [
    "def split_engine_be_features(engine_str):\n",
    "    engine_split = engine_str.split('/')\n",
    "    \n",
    "    engine_volume = engine_split[0].strip().split(' ')[0]\n",
    "    engine_power = engine_split[1].strip().split(' ')[0]\n",
    "    engine_type = engine_split[2].strip()\n",
    "    \n",
    "    return engine_volume, engine_power, engine_type"
   ]
  },
  {
   "cell_type": "code",
   "execution_count": 14,
   "metadata": {},
   "outputs": [],
   "source": [
    "df['engine_volume'], df['engine_power'], df['engine_type'] = zip(*df['engine'].map(split_engine_be_features))\n",
    "\n",
    "df['engine_volume'] = df['engine_volume'].astype('float')\n",
    "\n",
    "df['engine_power'] = df['engine_power'].apply(lambda x: str(x).replace('л.с.', '')).astype('int')\n",
    "df['engine_power'] = df['engine_power'].astype('int')"
   ]
  },
  {
   "cell_type": "markdown",
   "metadata": {},
   "source": [
    "### Equipment"
   ]
  },
  {
   "cell_type": "code",
   "execution_count": 15,
   "metadata": {},
   "outputs": [],
   "source": [
    "df.loc[df['equipment'].isna(), 'equipment'] = 'unknown'"
   ]
  },
  {
   "cell_type": "markdown",
   "metadata": {},
   "source": [
    "### Tax"
   ]
  },
  {
   "cell_type": "code",
   "execution_count": 16,
   "metadata": {},
   "outputs": [],
   "source": [
    "df['tax'] = df['tax'].apply(lambda x: x.replace('₽ / год', '')).astype('int')"
   ]
  },
  {
   "cell_type": "markdown",
   "metadata": {},
   "source": [
    "### Online_show"
   ]
  },
  {
   "cell_type": "code",
   "execution_count": 17,
   "metadata": {},
   "outputs": [],
   "source": [
    "df.loc[~df['online_show'].isna(), 'online_show'] = True\n",
    "df.loc[df['online_show'].isna(), 'online_show'] = False"
   ]
  },
  {
   "cell_type": "markdown",
   "metadata": {},
   "source": [
    "### Car_type"
   ]
  },
  {
   "cell_type": "code",
   "execution_count": 18,
   "metadata": {},
   "outputs": [
    {
     "data": {
      "text/plain": [
       "лифтбек            394\n",
       "седан              212\n",
       "хэтчбек 5 дв.       25\n",
       "хэтчбек 3 дв.        8\n",
       "универсал 5 дв.      1\n",
       "Name: car_type, dtype: int64"
      ]
     },
     "execution_count": 18,
     "metadata": {},
     "output_type": "execute_result"
    }
   ],
   "source": [
    "df['car_type'].value_counts()"
   ]
  },
  {
   "cell_type": "markdown",
   "metadata": {},
   "source": [
    "### "
   ]
  },
  {
   "cell_type": "code",
   "execution_count": 19,
   "metadata": {},
   "outputs": [
    {
     "data": {
      "text/plain": [
       "белый          False\n",
       "серый          False\n",
       "чёрный         False\n",
       "серебристый    False\n",
       "синий           True\n",
       "коричневый      True\n",
       "красный         True\n",
       "бежевый         True\n",
       "жёлтый          True\n",
       "голубой         True\n",
       "зелёный         True\n",
       "золотистый      True\n",
       "оранжевый       True\n",
       "Name: color, dtype: bool"
      ]
     },
     "execution_count": 19,
     "metadata": {},
     "output_type": "execute_result"
    }
   ],
   "source": [
    "df['color'].value_counts(normalize=True) < 0.1"
   ]
  },
  {
   "cell_type": "markdown",
   "metadata": {},
   "source": [
    "### Owners"
   ]
  },
  {
   "cell_type": "code",
   "execution_count": 20,
   "metadata": {},
   "outputs": [],
   "source": [
    "df.loc[(df['one_owner'] == 1.0) | (df['owners'] == '1владелец'), 'owners'] = '1'\n",
    "df.loc[df['owners'] == '2владельца', 'owners'] = '2'\n",
    "df.loc[df['owners'] == '3 или более', 'owners'] = '3+'\n",
    "df.loc[df['new_or_used'] == 'new', 'owners'] = '0'"
   ]
  },
  {
   "cell_type": "markdown",
   "metadata": {},
   "source": [
    "### Year_of_release"
   ]
  },
  {
   "cell_type": "code",
   "execution_count": 21,
   "metadata": {},
   "outputs": [],
   "source": [
    "df.loc[(df['new_or_used'] == 'new') & (df['year_of_release'].isna()), 'year_of_release'] = '2021'"
   ]
  },
  {
   "cell_type": "code",
   "execution_count": 22,
   "metadata": {},
   "outputs": [],
   "source": [
    "df['year_of_release'] = df['year_of_release'].astype('int')"
   ]
  },
  {
   "cell_type": "markdown",
   "metadata": {},
   "source": [
    "### No_dtp"
   ]
  },
  {
   "cell_type": "code",
   "execution_count": 23,
   "metadata": {},
   "outputs": [],
   "source": [
    "df.loc[(df['new_or_used'] == 'new') & (df['no_dtp'].isna()), 'no_dtp'] = 1.0"
   ]
  },
  {
   "cell_type": "code",
   "execution_count": 24,
   "metadata": {},
   "outputs": [
    {
     "data": {
      "text/plain": [
       "1.000    509\n",
       "NaN      131\n",
       "Name: no_dtp, dtype: int64"
      ]
     },
     "execution_count": 24,
     "metadata": {},
     "output_type": "execute_result"
    }
   ],
   "source": [
    "df['no_dtp'].value_counts(dropna=False)"
   ]
  },
  {
   "cell_type": "code",
   "execution_count": 25,
   "metadata": {},
   "outputs": [],
   "source": [
    "df['no_dtp'] = df['no_dtp'].apply(lambda x: 'true' if x == 1.0 else 'unknown')"
   ]
  },
  {
   "cell_type": "code",
   "execution_count": 26,
   "metadata": {},
   "outputs": [
    {
     "data": {
      "text/plain": [
       "true       509\n",
       "unknown    131\n",
       "Name: no_dtp, dtype: int64"
      ]
     },
     "execution_count": 26,
     "metadata": {},
     "output_type": "execute_result"
    }
   ],
   "source": [
    "df['no_dtp'].value_counts()"
   ]
  },
  {
   "cell_type": "markdown",
   "metadata": {},
   "source": [
    "### Exchange"
   ]
  },
  {
   "cell_type": "code",
   "execution_count": 27,
   "metadata": {},
   "outputs": [
    {
     "data": {
      "text/plain": [
       "NaN                   554\n",
       "рассмотрю варианты     86\n",
       "Name: exchange, dtype: int64"
      ]
     },
     "execution_count": 27,
     "metadata": {},
     "output_type": "execute_result"
    }
   ],
   "source": [
    "df['exchange'].value_counts(dropna=False)"
   ]
  },
  {
   "cell_type": "code",
   "execution_count": 28,
   "metadata": {},
   "outputs": [],
   "source": [
    "df['exchange'] = df['exchange'].apply(lambda x: True if pd.notna(x) else False)"
   ]
  },
  {
   "cell_type": "code",
   "execution_count": 29,
   "metadata": {},
   "outputs": [
    {
     "data": {
      "text/plain": [
       "False    554\n",
       "True      86\n",
       "Name: exchange, dtype: int64"
      ]
     },
     "execution_count": 29,
     "metadata": {},
     "output_type": "execute_result"
    }
   ],
   "source": [
    "df['exchange'].value_counts(dropna=False)"
   ]
  },
  {
   "cell_type": "markdown",
   "metadata": {},
   "source": [
    "### Ptc"
   ]
  },
  {
   "cell_type": "code",
   "execution_count": 30,
   "metadata": {},
   "outputs": [
    {
     "data": {
      "text/plain": [
       "NaN         381\n",
       "оригинал    234\n",
       "дубликат     25\n",
       "Name: ptc, dtype: int64"
      ]
     },
     "execution_count": 30,
     "metadata": {},
     "output_type": "execute_result"
    }
   ],
   "source": [
    "df['ptc'].value_counts(dropna=False)"
   ]
  },
  {
   "cell_type": "code",
   "execution_count": 31,
   "metadata": {},
   "outputs": [],
   "source": [
    "df.loc[(df['ptc'].isna()) & (df['new_or_used'] == 'new'), 'ptc'] = 'новая машина'"
   ]
  },
  {
   "cell_type": "markdown",
   "metadata": {},
   "source": [
    "### Customhouse"
   ]
  },
  {
   "cell_type": "code",
   "execution_count": 32,
   "metadata": {},
   "outputs": [
    {
     "data": {
      "text/plain": [
       "NaN           381\n",
       "растаможен    259\n",
       "Name: customhouse, dtype: int64"
      ]
     },
     "execution_count": 32,
     "metadata": {},
     "output_type": "execute_result"
    }
   ],
   "source": [
    "df['customhouse'].value_counts(dropna=False)"
   ]
  },
  {
   "cell_type": "code",
   "execution_count": 33,
   "metadata": {},
   "outputs": [],
   "source": [
    "df.loc[(df['customhouse'].isna()) & (df['new_or_used'] == 'new'), 'customhouse'] = 'не растаможен'"
   ]
  },
  {
   "cell_type": "code",
   "execution_count": 34,
   "metadata": {},
   "outputs": [
    {
     "data": {
      "text/plain": [
       "не растаможен    381\n",
       "растаможен       259\n",
       "Name: customhouse, dtype: int64"
      ]
     },
     "execution_count": 34,
     "metadata": {},
     "output_type": "execute_result"
    }
   ],
   "source": [
    "df['customhouse'].value_counts(dropna=False)"
   ]
  },
  {
   "cell_type": "markdown",
   "metadata": {},
   "source": [
    "### Sells_owner"
   ]
  },
  {
   "cell_type": "code",
   "execution_count": 35,
   "metadata": {},
   "outputs": [
    {
     "data": {
      "text/plain": [
       "NaN      604\n",
       "1.000     36\n",
       "Name: sells_owner, dtype: int64"
      ]
     },
     "execution_count": 35,
     "metadata": {},
     "output_type": "execute_result"
    }
   ],
   "source": [
    "df['sells_owner'].value_counts(dropna=False)"
   ]
  },
  {
   "cell_type": "code",
   "execution_count": 36,
   "metadata": {},
   "outputs": [],
   "source": [
    "df.loc[(df['sells_owner'].isna()) & (df['new_or_used'] == 'new'), 'sells_owner'] = 'новая машина'\n",
    "df.loc[(df['sells_owner'].isna()) & (df['new_or_used'] != 'new'), 'sells_owner'] = 'false'\n",
    "df.loc[df['sells_owner'] == 1.0, 'sells_owner'] = 'true'"
   ]
  },
  {
   "cell_type": "code",
   "execution_count": 37,
   "metadata": {},
   "outputs": [
    {
     "data": {
      "text/plain": [
       "новая машина    381\n",
       "false           223\n",
       "true             36\n",
       "Name: sells_owner, dtype: int64"
      ]
     },
     "execution_count": 37,
     "metadata": {},
     "output_type": "execute_result"
    }
   ],
   "source": [
    "df['sells_owner'].value_counts(dropna=False)"
   ]
  },
  {
   "cell_type": "code",
   "execution_count": 38,
   "metadata": {},
   "outputs": [],
   "source": [
    "df = df.drop(columns=columns_to_remove)"
   ]
  },
  {
   "cell_type": "code",
   "execution_count": 39,
   "metadata": {},
   "outputs": [],
   "source": [
    "cols_with_incorrect_low_values = ['car_type', 'color', 'engine_volume', 'engine_power']\n",
    "for col in cols_with_incorrect_low_values:\n",
    "    values_above = df[col].value_counts().loc[df[col].value_counts(normalize=True) < 0.01].index\n",
    "    df = df[~df[col].isin(values_above)]"
   ]
  },
  {
   "cell_type": "code",
   "execution_count": 40,
   "metadata": {},
   "outputs": [
    {
     "data": {
      "text/plain": [
       "new_or_used          2\n",
       "equipment            5\n",
       "transmission         3\n",
       "car_type             4\n",
       "tax                 21\n",
       "online_show          2\n",
       "color               10\n",
       "price              391\n",
       "owners               4\n",
       "year_of_release     14\n",
       "no_dtp               2\n",
       "exchange             2\n",
       "mileage            205\n",
       "ptc                  3\n",
       "customhouse          2\n",
       "sells_owner          3\n",
       "engine_volume        3\n",
       "engine_power         5\n",
       "dtype: int64"
      ]
     },
     "execution_count": 40,
     "metadata": {},
     "output_type": "execute_result"
    }
   ],
   "source": [
    "df.nunique()"
   ]
  },
  {
   "cell_type": "markdown",
   "metadata": {},
   "source": [
    "### Concert categorical and numeric features"
   ]
  },
  {
   "cell_type": "code",
   "execution_count": 41,
   "metadata": {},
   "outputs": [],
   "source": [
    "categorical_features = ['new_or_used', 'equipment', 'transmission',\n",
    "                        'car_type', 'online_show', 'color', 'owners',\n",
    "                        'no_dtp', 'exchange', 'ptc', 'customhouse',\n",
    "                        'sells_owner', 'engine_volume', 'engine_power']\n",
    "\n",
    "numeric_features = ['tax', 'year_of_release', 'mileage']"
   ]
  },
  {
   "cell_type": "code",
   "execution_count": 42,
   "metadata": {},
   "outputs": [],
   "source": [
    "df = pd.get_dummies(data=df, columns=categorical_features, drop_first=True)"
   ]
  },
  {
   "cell_type": "code",
   "execution_count": 43,
   "metadata": {},
   "outputs": [],
   "source": [
    "for num_feature in numeric_features:\n",
    "    df[num_feature] = df[num_feature].astype('int')"
   ]
  },
  {
   "cell_type": "code",
   "execution_count": 44,
   "metadata": {},
   "outputs": [],
   "source": [
    "df['price'] = df['price'].apply(lambda x: x.split(' ')[-1].replace('₽', '').strip()).astype('int')"
   ]
  },
  {
   "cell_type": "code",
   "execution_count": 45,
   "metadata": {},
   "outputs": [
    {
     "name": "stdout",
     "output_type": "stream",
     "text": [
      "<class 'pandas.core.frame.DataFrame'>\n",
      "Int64Index: 615 entries, 0 to 639\n",
      "Data columns (total 40 columns):\n",
      " #   Column                         Non-Null Count  Dtype\n",
      "---  ------                         --------------  -----\n",
      " 0   tax                            615 non-null    int64\n",
      " 1   price                          615 non-null    int64\n",
      " 2   year_of_release                615 non-null    int64\n",
      " 3   mileage                        615 non-null    int64\n",
      " 4   new_or_used_used               615 non-null    uint8\n",
      " 5   equipment_origin               615 non-null    uint8\n",
      " 6   equipment_respect              615 non-null    uint8\n",
      " 7   equipment_status               615 non-null    uint8\n",
      " 8   equipment_unknown              615 non-null    uint8\n",
      " 9   transmission_механическая      615 non-null    uint8\n",
      " 10  transmission_роботизированная  615 non-null    uint8\n",
      " 11  car_type_седан                 615 non-null    uint8\n",
      " 12  car_type_хэтчбек 3 дв.         615 non-null    uint8\n",
      " 13  car_type_хэтчбек 5 дв.         615 non-null    uint8\n",
      " 14  online_show_True               615 non-null    uint8\n",
      " 15  color_белый                    615 non-null    uint8\n",
      " 16  color_голубой                  615 non-null    uint8\n",
      " 17  color_жёлтый                   615 non-null    uint8\n",
      " 18  color_коричневый               615 non-null    uint8\n",
      " 19  color_красный                  615 non-null    uint8\n",
      " 20  color_серебристый              615 non-null    uint8\n",
      " 21  color_серый                    615 non-null    uint8\n",
      " 22  color_синий                    615 non-null    uint8\n",
      " 23  color_чёрный                   615 non-null    uint8\n",
      " 24  owners_1                       615 non-null    uint8\n",
      " 25  owners_2                       615 non-null    uint8\n",
      " 26  owners_3+                      615 non-null    uint8\n",
      " 27  no_dtp_unknown                 615 non-null    uint8\n",
      " 28  exchange_True                  615 non-null    uint8\n",
      " 29  ptc_новая машина               615 non-null    uint8\n",
      " 30  ptc_оригинал                   615 non-null    uint8\n",
      " 31  customhouse_растаможен         615 non-null    uint8\n",
      " 32  sells_owner_true               615 non-null    uint8\n",
      " 33  sells_owner_новая машина       615 non-null    uint8\n",
      " 34  engine_volume_1.4              615 non-null    uint8\n",
      " 35  engine_volume_1.6              615 non-null    uint8\n",
      " 36  engine_power_90                615 non-null    uint8\n",
      " 37  engine_power_105               615 non-null    uint8\n",
      " 38  engine_power_110               615 non-null    uint8\n",
      " 39  engine_power_125               615 non-null    uint8\n",
      "dtypes: int64(4), uint8(36)\n",
      "memory usage: 45.6 KB\n"
     ]
    }
   ],
   "source": [
    "df.info()"
   ]
  },
  {
   "cell_type": "markdown",
   "metadata": {},
   "source": [
    "### Drop NA"
   ]
  },
  {
   "cell_type": "code",
   "execution_count": 46,
   "metadata": {},
   "outputs": [],
   "source": [
    "df = df.dropna(how='any')"
   ]
  },
  {
   "cell_type": "markdown",
   "metadata": {},
   "source": [
    "### Split data"
   ]
  },
  {
   "cell_type": "code",
   "execution_count": 47,
   "metadata": {},
   "outputs": [],
   "source": [
    "X_train, X_test, y_train, y_test = train_test_split(df.drop(columns=['price']),\n",
    "                                                    df['price'], \n",
    "                                                    test_size=0.25)"
   ]
  },
  {
   "cell_type": "code",
   "execution_count": 48,
   "metadata": {},
   "outputs": [
    {
     "data": {
      "text/plain": [
       "((461, 39), (154, 39))"
      ]
     },
     "execution_count": 48,
     "metadata": {},
     "output_type": "execute_result"
    }
   ],
   "source": [
    "X_train.shape, X_test.shape"
   ]
  },
  {
   "cell_type": "markdown",
   "metadata": {},
   "source": [
    "### Scaling"
   ]
  },
  {
   "cell_type": "code",
   "execution_count": 49,
   "metadata": {},
   "outputs": [],
   "source": [
    "scaler_x = MinMaxScaler()\n",
    "X_train[numeric_features] = scaler_x.fit_transform(X_train[numeric_features])\n",
    "X_test[numeric_features] = scaler_x.transform(X_test[numeric_features])"
   ]
  },
  {
   "cell_type": "markdown",
   "metadata": {},
   "source": [
    "## Modeling"
   ]
  },
  {
   "cell_type": "markdown",
   "metadata": {},
   "source": [
    "### BaseLine"
   ]
  },
  {
   "cell_type": "code",
   "execution_count": 50,
   "metadata": {},
   "outputs": [],
   "source": [
    "def mean_absolute_percentage_error(y_true, y_pred): \n",
    "    y_true, y_pred = np.array(y_true), np.array(y_pred)\n",
    "    return np.mean(np.abs((y_true - y_pred) / y_true)) * 100\n",
    "\n",
    "def dataframe_metrics(y_test,y_pred):\n",
    "    stats = [\n",
    "       metrics.mean_absolute_error(y_test, y_pred),\n",
    "       np.sqrt(metrics.mean_squared_error(y_test, y_pred)),\n",
    "       metrics.r2_score(y_test, y_pred),\n",
    "       mean_absolute_percentage_error(y_test, y_pred)\n",
    "    ]\n",
    "    return stats"
   ]
  },
  {
   "cell_type": "code",
   "execution_count": 51,
   "metadata": {},
   "outputs": [
    {
     "data": {
      "text/html": [
       "<div>\n",
       "<style scoped>\n",
       "    .dataframe tbody tr th:only-of-type {\n",
       "        vertical-align: middle;\n",
       "    }\n",
       "\n",
       "    .dataframe tbody tr th {\n",
       "        vertical-align: top;\n",
       "    }\n",
       "\n",
       "    .dataframe thead th {\n",
       "        text-align: right;\n",
       "    }\n",
       "</style>\n",
       "<table border=\"1\" class=\"dataframe\">\n",
       "  <thead>\n",
       "    <tr style=\"text-align: right;\">\n",
       "      <th></th>\n",
       "    </tr>\n",
       "    <tr>\n",
       "      <th>error_type</th>\n",
       "    </tr>\n",
       "  </thead>\n",
       "  <tbody>\n",
       "    <tr>\n",
       "      <th>MAE</th>\n",
       "    </tr>\n",
       "    <tr>\n",
       "      <th>RMSE</th>\n",
       "    </tr>\n",
       "    <tr>\n",
       "      <th>R2</th>\n",
       "    </tr>\n",
       "    <tr>\n",
       "      <th>MAPE</th>\n",
       "    </tr>\n",
       "  </tbody>\n",
       "</table>\n",
       "</div>"
      ],
      "text/plain": [
       "Empty DataFrame\n",
       "Columns: []\n",
       "Index: [MAE, RMSE, R2, MAPE]"
      ]
     },
     "execution_count": 51,
     "metadata": {},
     "output_type": "execute_result"
    }
   ],
   "source": [
    "measured_metrics = pd.DataFrame({\"error_type\":[\"MAE\", \"RMSE\", \"R2\", \"MAPE\"]})\n",
    "measured_metrics.set_index(\"error_type\")"
   ]
  },
  {
   "cell_type": "code",
   "execution_count": 52,
   "metadata": {},
   "outputs": [
    {
     "data": {
      "text/html": [
       "<div>\n",
       "<style scoped>\n",
       "    .dataframe tbody tr th:only-of-type {\n",
       "        vertical-align: middle;\n",
       "    }\n",
       "\n",
       "    .dataframe tbody tr th {\n",
       "        vertical-align: top;\n",
       "    }\n",
       "\n",
       "    .dataframe thead th {\n",
       "        text-align: right;\n",
       "    }\n",
       "</style>\n",
       "<table border=\"1\" class=\"dataframe\">\n",
       "  <thead>\n",
       "    <tr style=\"text-align: right;\">\n",
       "      <th></th>\n",
       "      <th>error_type</th>\n",
       "      <th>baseline</th>\n",
       "    </tr>\n",
       "  </thead>\n",
       "  <tbody>\n",
       "    <tr>\n",
       "      <th>0</th>\n",
       "      <td>MAE</td>\n",
       "      <td>288106.338</td>\n",
       "    </tr>\n",
       "    <tr>\n",
       "      <th>1</th>\n",
       "      <td>RMSE</td>\n",
       "      <td>365841.236</td>\n",
       "    </tr>\n",
       "    <tr>\n",
       "      <th>2</th>\n",
       "      <td>R2</td>\n",
       "      <td>-0.228</td>\n",
       "    </tr>\n",
       "    <tr>\n",
       "      <th>3</th>\n",
       "      <td>MAPE</td>\n",
       "      <td>54.753</td>\n",
       "    </tr>\n",
       "  </tbody>\n",
       "</table>\n",
       "</div>"
      ],
      "text/plain": [
       "  error_type   baseline\n",
       "0        MAE 288106.338\n",
       "1       RMSE 365841.236\n",
       "2         R2     -0.228\n",
       "3       MAPE     54.753"
      ]
     },
     "execution_count": 52,
     "metadata": {},
     "output_type": "execute_result"
    }
   ],
   "source": [
    "median_train = y_train.median()\n",
    "baseline = np.array([median_train] * len(y_test))\n",
    "measured_metrics['baseline'] = dataframe_metrics(y_test, baseline)\n",
    "measured_metrics"
   ]
  },
  {
   "cell_type": "markdown",
   "metadata": {},
   "source": [
    "### Linear Reg"
   ]
  },
  {
   "cell_type": "code",
   "execution_count": 53,
   "metadata": {},
   "outputs": [
    {
     "data": {
      "text/plain": [
       "LinearRegression()"
      ]
     },
     "execution_count": 53,
     "metadata": {},
     "output_type": "execute_result"
    }
   ],
   "source": [
    "lin_reg = LinearRegression()\n",
    "\n",
    "lin_reg.fit(X_train, y_train)"
   ]
  },
  {
   "cell_type": "code",
   "execution_count": 54,
   "metadata": {},
   "outputs": [
    {
     "data": {
      "image/png": "[encoded data removed]",
      "text/plain": [
       "<Figure size 1440x432 with 1 Axes>"
      ]
     },
     "metadata": {
      "needs_background": "light"
     },
     "output_type": "display_data"
    }
   ],
   "source": [
    "featureImportance = pd.DataFrame({\"feature\": X_train.columns, \n",
    "                                  \"importance\": lin_reg.coef_})\n",
    "\n",
    "featureImportance.set_index('feature', inplace=True)\n",
    "featureImportance.sort_values([\"importance\"], ascending=False, inplace=True)\n",
    "featureImportance[\"importance\"].plot(kind='bar', figsize=(20, 6));"
   ]
  },
  {
   "cell_type": "code",
   "execution_count": 55,
   "metadata": {},
   "outputs": [],
   "source": [
    "predictions = lin_reg.predict(X_test)"
   ]
  },
  {
   "cell_type": "code",
   "execution_count": 56,
   "metadata": {},
   "outputs": [
    {
     "data": {
      "text/html": [
       "<div>\n",
       "<style scoped>\n",
       "    .dataframe tbody tr th:only-of-type {\n",
       "        vertical-align: middle;\n",
       "    }\n",
       "\n",
       "    .dataframe tbody tr th {\n",
       "        vertical-align: top;\n",
       "    }\n",
       "\n",
       "    .dataframe thead th {\n",
       "        text-align: right;\n",
       "    }\n",
       "</style>\n",
       "<table border=\"1\" class=\"dataframe\">\n",
       "  <thead>\n",
       "    <tr style=\"text-align: right;\">\n",
       "      <th></th>\n",
       "      <th>error_type</th>\n",
       "      <th>baseline</th>\n",
       "      <th>lin_reg</th>\n",
       "    </tr>\n",
       "  </thead>\n",
       "  <tbody>\n",
       "    <tr>\n",
       "      <th>0</th>\n",
       "      <td>MAE</td>\n",
       "      <td>288106.338</td>\n",
       "      <td>597928367152925.250</td>\n",
       "    </tr>\n",
       "    <tr>\n",
       "      <th>1</th>\n",
       "      <td>RMSE</td>\n",
       "      <td>365841.236</td>\n",
       "      <td>5158379713272574.000</td>\n",
       "    </tr>\n",
       "    <tr>\n",
       "      <th>2</th>\n",
       "      <td>R2</td>\n",
       "      <td>-0.228</td>\n",
       "      <td>-244082937686572269568.000</td>\n",
       "    </tr>\n",
       "    <tr>\n",
       "      <th>3</th>\n",
       "      <td>MAPE</td>\n",
       "      <td>54.753</td>\n",
       "      <td>165338879610.507</td>\n",
       "    </tr>\n",
       "  </tbody>\n",
       "</table>\n",
       "</div>"
      ],
      "text/plain": [
       "  error_type   baseline                    lin_reg\n",
       "0        MAE 288106.338        597928367152925.250\n",
       "1       RMSE 365841.236       5158379713272574.000\n",
       "2         R2     -0.228 -244082937686572269568.000\n",
       "3       MAPE     54.753           165338879610.507"
      ]
     },
     "execution_count": 56,
     "metadata": {},
     "output_type": "execute_result"
    }
   ],
   "source": [
    "measured_metrics[\"lin_reg\"] = dataframe_metrics(y_test, predictions)\n",
    "measured_metrics"
   ]
  },
  {
   "cell_type": "code",
   "execution_count": 57,
   "metadata": {},
   "outputs": [
    {
     "data": {
      "text/html": [
       "<div>\n",
       "<style scoped>\n",
       "    .dataframe tbody tr th:only-of-type {\n",
       "        vertical-align: middle;\n",
       "    }\n",
       "\n",
       "    .dataframe tbody tr th {\n",
       "        vertical-align: top;\n",
       "    }\n",
       "\n",
       "    .dataframe thead th {\n",
       "        text-align: right;\n",
       "    }\n",
       "</style>\n",
       "<table border=\"1\" class=\"dataframe\">\n",
       "  <thead>\n",
       "    <tr style=\"text-align: right;\">\n",
       "      <th></th>\n",
       "      <th>price</th>\n",
       "    </tr>\n",
       "  </thead>\n",
       "  <tbody>\n",
       "    <tr>\n",
       "      <th>count</th>\n",
       "      <td>615.000</td>\n",
       "    </tr>\n",
       "    <tr>\n",
       "      <th>mean</th>\n",
       "      <td>899959.559</td>\n",
       "    </tr>\n",
       "    <tr>\n",
       "      <th>std</th>\n",
       "      <td>303087.647</td>\n",
       "    </tr>\n",
       "    <tr>\n",
       "      <th>min</th>\n",
       "      <td>295000.000</td>\n",
       "    </tr>\n",
       "    <tr>\n",
       "      <th>25%</th>\n",
       "      <td>520000.000</td>\n",
       "    </tr>\n",
       "    <tr>\n",
       "      <th>50%</th>\n",
       "      <td>1000000.000</td>\n",
       "    </tr>\n",
       "    <tr>\n",
       "      <th>75%</th>\n",
       "      <td>1125300.000</td>\n",
       "    </tr>\n",
       "    <tr>\n",
       "      <th>max</th>\n",
       "      <td>1352300.000</td>\n",
       "    </tr>\n",
       "  </tbody>\n",
       "</table>\n",
       "</div>"
      ],
      "text/plain": [
       "            price\n",
       "count     615.000\n",
       "mean   899959.559\n",
       "std    303087.647\n",
       "min    295000.000\n",
       "25%    520000.000\n",
       "50%   1000000.000\n",
       "75%   1125300.000\n",
       "max   1352300.000"
      ]
     },
     "execution_count": 57,
     "metadata": {},
     "output_type": "execute_result"
    }
   ],
   "source": [
    "df[['price']].describe()"
   ]
  },
  {
   "cell_type": "markdown",
   "metadata": {},
   "source": [
    "## RidgeCV"
   ]
  },
  {
   "cell_type": "code",
   "execution_count": 58,
   "metadata": {},
   "outputs": [
    {
     "data": {
      "text/plain": [
       "RidgeCV(alphas=array([ 0.1,  1. , 10. ]))"
      ]
     },
     "execution_count": 58,
     "metadata": {},
     "output_type": "execute_result"
    }
   ],
   "source": [
    "ridge_cv = RidgeCV()\n",
    "\n",
    "ridge_cv.fit(X_train, y_train)"
   ]
  },
  {
   "cell_type": "code",
   "execution_count": 59,
   "metadata": {},
   "outputs": [
    {
     "data": {
      "image/png": "[encoded data removed]",
      "text/plain": [
       "<Figure size 1296x432 with 1 Axes>"
      ]
     },
     "metadata": {
      "needs_background": "light"
     },
     "output_type": "display_data"
    }
   ],
   "source": [
    "featureImportance = pd.DataFrame({\"feature\": X_train.columns, \n",
    "                                  \"importance\": ridge_cv.coef_})\n",
    "\n",
    "featureImportance.set_index('feature', inplace=True)\n",
    "featureImportance.sort_values([\"importance\"], ascending=False, inplace=True)\n",
    "featureImportance[\"importance\"].plot(kind='bar', figsize=(18, 6));"
   ]
  },
  {
   "cell_type": "code",
   "execution_count": 60,
   "metadata": {},
   "outputs": [
    {
     "data": {
      "text/html": [
       "<div>\n",
       "<style scoped>\n",
       "    .dataframe tbody tr th:only-of-type {\n",
       "        vertical-align: middle;\n",
       "    }\n",
       "\n",
       "    .dataframe tbody tr th {\n",
       "        vertical-align: top;\n",
       "    }\n",
       "\n",
       "    .dataframe thead th {\n",
       "        text-align: right;\n",
       "    }\n",
       "</style>\n",
       "<table border=\"1\" class=\"dataframe\">\n",
       "  <thead>\n",
       "    <tr style=\"text-align: right;\">\n",
       "      <th></th>\n",
       "      <th>error_type</th>\n",
       "      <th>baseline</th>\n",
       "      <th>lin_reg</th>\n",
       "      <th>ridge_cv</th>\n",
       "    </tr>\n",
       "  </thead>\n",
       "  <tbody>\n",
       "    <tr>\n",
       "      <th>0</th>\n",
       "      <td>MAE</td>\n",
       "      <td>288106.338</td>\n",
       "      <td>597928367152925.250</td>\n",
       "      <td>57475.322</td>\n",
       "    </tr>\n",
       "    <tr>\n",
       "      <th>1</th>\n",
       "      <td>RMSE</td>\n",
       "      <td>365841.236</td>\n",
       "      <td>5158379713272574.000</td>\n",
       "      <td>72594.380</td>\n",
       "    </tr>\n",
       "    <tr>\n",
       "      <th>2</th>\n",
       "      <td>R2</td>\n",
       "      <td>-0.228</td>\n",
       "      <td>-244082937686572269568.000</td>\n",
       "      <td>0.952</td>\n",
       "    </tr>\n",
       "    <tr>\n",
       "      <th>3</th>\n",
       "      <td>MAPE</td>\n",
       "      <td>54.753</td>\n",
       "      <td>165338879610.507</td>\n",
       "      <td>7.780</td>\n",
       "    </tr>\n",
       "  </tbody>\n",
       "</table>\n",
       "</div>"
      ],
      "text/plain": [
       "  error_type   baseline                    lin_reg  ridge_cv\n",
       "0        MAE 288106.338        597928367152925.250 57475.322\n",
       "1       RMSE 365841.236       5158379713272574.000 72594.380\n",
       "2         R2     -0.228 -244082937686572269568.000     0.952\n",
       "3       MAPE     54.753           165338879610.507     7.780"
      ]
     },
     "execution_count": 60,
     "metadata": {},
     "output_type": "execute_result"
    }
   ],
   "source": [
    "predictions = ridge_cv.predict(X_test)\n",
    "measured_metrics[\"ridge_cv\"] = dataframe_metrics(y_test, predictions)\n",
    "measured_metrics"
   ]
  },
  {
   "cell_type": "markdown",
   "metadata": {},
   "source": [
    "## LassoCV"
   ]
  },
  {
   "cell_type": "code",
   "execution_count": 61,
   "metadata": {},
   "outputs": [
    {
     "data": {
      "text/plain": [
       "LassoCV()"
      ]
     },
     "execution_count": 61,
     "metadata": {},
     "output_type": "execute_result"
    }
   ],
   "source": [
    "lasso_cv = LassoCV()\n",
    "\n",
    "lasso_cv.fit(X_train, y_train)"
   ]
  },
  {
   "cell_type": "code",
   "execution_count": 62,
   "metadata": {},
   "outputs": [
    {
     "data": {
      "text/html": [
       "<div>\n",
       "<style scoped>\n",
       "    .dataframe tbody tr th:only-of-type {\n",
       "        vertical-align: middle;\n",
       "    }\n",
       "\n",
       "    .dataframe tbody tr th {\n",
       "        vertical-align: top;\n",
       "    }\n",
       "\n",
       "    .dataframe thead th {\n",
       "        text-align: right;\n",
       "    }\n",
       "</style>\n",
       "<table border=\"1\" class=\"dataframe\">\n",
       "  <thead>\n",
       "    <tr style=\"text-align: right;\">\n",
       "      <th></th>\n",
       "      <th>error_type</th>\n",
       "      <th>baseline</th>\n",
       "      <th>lin_reg</th>\n",
       "      <th>ridge_cv</th>\n",
       "      <th>lasso_cv</th>\n",
       "    </tr>\n",
       "  </thead>\n",
       "  <tbody>\n",
       "    <tr>\n",
       "      <th>0</th>\n",
       "      <td>MAE</td>\n",
       "      <td>288106.338</td>\n",
       "      <td>597928367152925.250</td>\n",
       "      <td>57475.322</td>\n",
       "      <td>57186.136</td>\n",
       "    </tr>\n",
       "    <tr>\n",
       "      <th>1</th>\n",
       "      <td>RMSE</td>\n",
       "      <td>365841.236</td>\n",
       "      <td>5158379713272574.000</td>\n",
       "      <td>72594.380</td>\n",
       "      <td>72443.244</td>\n",
       "    </tr>\n",
       "    <tr>\n",
       "      <th>2</th>\n",
       "      <td>R2</td>\n",
       "      <td>-0.228</td>\n",
       "      <td>-244082937686572269568.000</td>\n",
       "      <td>0.952</td>\n",
       "      <td>0.952</td>\n",
       "    </tr>\n",
       "    <tr>\n",
       "      <th>3</th>\n",
       "      <td>MAPE</td>\n",
       "      <td>54.753</td>\n",
       "      <td>165338879610.507</td>\n",
       "      <td>7.780</td>\n",
       "      <td>7.684</td>\n",
       "    </tr>\n",
       "  </tbody>\n",
       "</table>\n",
       "</div>"
      ],
      "text/plain": [
       "  error_type   baseline                    lin_reg  ridge_cv  lasso_cv\n",
       "0        MAE 288106.338        597928367152925.250 57475.322 57186.136\n",
       "1       RMSE 365841.236       5158379713272574.000 72594.380 72443.244\n",
       "2         R2     -0.228 -244082937686572269568.000     0.952     0.952\n",
       "3       MAPE     54.753           165338879610.507     7.780     7.684"
      ]
     },
     "execution_count": 62,
     "metadata": {},
     "output_type": "execute_result"
    },
    {
     "data": {
      "image/png": "[encoded data removed]",
      "text/plain": [
       "<Figure size 1296x432 with 1 Axes>"
      ]
     },
     "metadata": {
      "needs_background": "light"
     },
     "output_type": "display_data"
    }
   ],
   "source": [
    "featureImportance = pd.DataFrame({\"feature\": X_train.columns[lasso_cv.coef_!=0], \n",
    "                                  \"importance\": lasso_cv.coef_[lasso_cv.coef_!=0]})\n",
    "\n",
    "featureImportance.set_index('feature', inplace=True)\n",
    "featureImportance.sort_values([\"importance\"], ascending=False, inplace=True)\n",
    "featureImportance[\"importance\"].plot(kind='bar', figsize=(18, 6));\n",
    "\n",
    "measured_metrics[\"lasso_cv\"] = dataframe_metrics(y_test, lasso_cv.predict(X_test))\n",
    "measured_metrics"
   ]
  },
  {
   "cell_type": "markdown",
   "metadata": {},
   "source": [
    "### Random Forest"
   ]
  },
  {
   "cell_type": "code",
   "execution_count": 63,
   "metadata": {},
   "outputs": [
    {
     "data": {
      "text/html": [
       "<div>\n",
       "<style scoped>\n",
       "    .dataframe tbody tr th:only-of-type {\n",
       "        vertical-align: middle;\n",
       "    }\n",
       "\n",
       "    .dataframe tbody tr th {\n",
       "        vertical-align: top;\n",
       "    }\n",
       "\n",
       "    .dataframe thead th {\n",
       "        text-align: right;\n",
       "    }\n",
       "</style>\n",
       "<table border=\"1\" class=\"dataframe\">\n",
       "  <thead>\n",
       "    <tr style=\"text-align: right;\">\n",
       "      <th></th>\n",
       "      <th>error_type</th>\n",
       "      <th>baseline</th>\n",
       "      <th>lin_reg</th>\n",
       "      <th>ridge_cv</th>\n",
       "      <th>lasso_cv</th>\n",
       "      <th>rf_reg</th>\n",
       "    </tr>\n",
       "  </thead>\n",
       "  <tbody>\n",
       "    <tr>\n",
       "      <th>0</th>\n",
       "      <td>MAE</td>\n",
       "      <td>288106.338</td>\n",
       "      <td>597928367152925.250</td>\n",
       "      <td>57475.322</td>\n",
       "      <td>57186.136</td>\n",
       "      <td>48515.113</td>\n",
       "    </tr>\n",
       "    <tr>\n",
       "      <th>1</th>\n",
       "      <td>RMSE</td>\n",
       "      <td>365841.236</td>\n",
       "      <td>5158379713272574.000</td>\n",
       "      <td>72594.380</td>\n",
       "      <td>72443.244</td>\n",
       "      <td>64345.265</td>\n",
       "    </tr>\n",
       "    <tr>\n",
       "      <th>2</th>\n",
       "      <td>R2</td>\n",
       "      <td>-0.228</td>\n",
       "      <td>-244082937686572269568.000</td>\n",
       "      <td>0.952</td>\n",
       "      <td>0.952</td>\n",
       "      <td>0.962</td>\n",
       "    </tr>\n",
       "    <tr>\n",
       "      <th>3</th>\n",
       "      <td>MAPE</td>\n",
       "      <td>54.753</td>\n",
       "      <td>165338879610.507</td>\n",
       "      <td>7.780</td>\n",
       "      <td>7.684</td>\n",
       "      <td>6.300</td>\n",
       "    </tr>\n",
       "  </tbody>\n",
       "</table>\n",
       "</div>"
      ],
      "text/plain": [
       "  error_type   baseline                    lin_reg  ridge_cv  lasso_cv  \\\n",
       "0        MAE 288106.338        597928367152925.250 57475.322 57186.136   \n",
       "1       RMSE 365841.236       5158379713272574.000 72594.380 72443.244   \n",
       "2         R2     -0.228 -244082937686572269568.000     0.952     0.952   \n",
       "3       MAPE     54.753           165338879610.507     7.780     7.684   \n",
       "\n",
       "     rf_reg  \n",
       "0 48515.113  \n",
       "1 64345.265  \n",
       "2     0.962  \n",
       "3     6.300  "
      ]
     },
     "execution_count": 63,
     "metadata": {},
     "output_type": "execute_result"
    }
   ],
   "source": [
    "rf_reg = RandomForestRegressor(n_jobs=-1)\n",
    "rf_reg.fit(X_train, y_train)\n",
    "\n",
    "measured_metrics[\"rf_reg\"] = dataframe_metrics(y_test, rf_reg.predict(X_test))\n",
    "measured_metrics"
   ]
  },
  {
   "cell_type": "code",
   "execution_count": 64,
   "metadata": {},
   "outputs": [
    {
     "data": {
      "image/png": "[encoded data removed]",
      "text/plain": [
       "<Figure size 1296x432 with 1 Axes>"
      ]
     },
     "metadata": {
      "needs_background": "light"
     },
     "output_type": "display_data"
    }
   ],
   "source": [
    "featureImportance = pd.DataFrame({\"feature\": X_train.columns, \n",
    "                                  \"importance\": rf_reg.feature_importances_})\n",
    "\n",
    "featureImportance.set_index('feature', inplace=True)\n",
    "featureImportance.sort_values([\"importance\"], ascending=False, inplace=True)\n",
    "featureImportance[\"importance\"].plot(kind='bar', figsize=(18, 6));"
   ]
  },
  {
   "cell_type": "code",
   "execution_count": null,
   "metadata": {},
   "outputs": [],
   "source": []
  }
 ],
 "metadata": {
  "kernelspec": {
   "display_name": "data_science",
   "language": "python",
   "name": "data_science"
  },
  "language_info": {
   "codemirror_mode": {
    "name": "ipython",
    "version": 3
   },
   "file_extension": ".py",
   "mimetype": "text/x-python",
   "name": "python",
   "nbconvert_exporter": "python",
   "pygments_lexer": "ipython3",
   "version": "3.8.5"
  }
 },
 "nbformat": 4,
 "nbformat_minor": 4
}
