{
 "cells": [
  {
   "cell_type": "code",
   "execution_count": 1,
   "metadata": {},
   "outputs": [],
   "source": [
    "import pandas as pd\n",
    "import numpy as np\n",
    "import matplotlib.pyplot as plt\n",
    "import seaborn as sns\n",
    "\n",
    "from sklearn.preprocessing import StandardScaler, MinMaxScaler\n",
    "from sklearn.model_selection import train_test_split\n",
    "from sklearn.model_selection import GridSearchCV, RandomizedSearchCV\n",
    "\n",
    "from sklearn.metrics import confusion_matrix, classification_report\n",
    "from sklearn.metrics import accuracy_score, precision_score, recall_score, f1_score\n",
    "from sklearn import metrics\n",
    "\n",
    "from sklearn.ensemble import RandomForestRegressor\n",
    "from sklearn.linear_model import LinearRegression, RidgeCV, LassoCV, ElasticNetCV\n",
    "from sklearn.ensemble import RandomForestRegressor\n",
    "from sklearn.svm import SVC\n",
    "from xgboost import XGBClassifier"
   ]
  },
  {
   "cell_type": "code",
   "execution_count": 2,
   "metadata": {},
   "outputs": [],
   "source": [
    "pd.set_option('display.float_format', lambda x: '%.3f' % x)"
   ]
  },
  {
   "cell_type": "code",
   "execution_count": 3,
   "metadata": {},
   "outputs": [],
   "source": [
    "df = pd.read_csv('volk_polo_used_dataset.csv', index_col=0)"
   ]
  },
  {
   "cell_type": "code",
   "execution_count": 4,
   "metadata": {},
   "outputs": [],
   "source": [
    "df_with_topics = pd.read_csv('volk_polo_description_topics.csv', index_col=0)\n",
    "df_with_topics = df_with_topics.rename(columns={'0': 'desc_topic_0', \n",
    "                                                '1': 'desc_topic_1', '2':\n",
    "                                                'desc_topic_2'}).drop(columns=['price'])\n",
    "new_index = list(set(df_with_topics.index) & set(df.index))\n",
    "df = df.loc[new_index]\n",
    "df[['desc_topic_0', 'desc_topic_1', 'desc_topic_2']] = df_with_topics.loc[new_index]"
   ]
  },
  {
   "cell_type": "code",
   "execution_count": 5,
   "metadata": {},
   "outputs": [
    {
     "data": {
      "text/html": [
       "<div>\n",
       "<style scoped>\n",
       "    .dataframe tbody tr th:only-of-type {\n",
       "        vertical-align: middle;\n",
       "    }\n",
       "\n",
       "    .dataframe tbody tr th {\n",
       "        vertical-align: top;\n",
       "    }\n",
       "\n",
       "    .dataframe thead th {\n",
       "        text-align: right;\n",
       "    }\n",
       "</style>\n",
       "<table border=\"1\" class=\"dataframe\">\n",
       "  <thead>\n",
       "    <tr style=\"text-align: right;\">\n",
       "      <th></th>\n",
       "      <th>city</th>\n",
       "      <th>model</th>\n",
       "      <th>photos</th>\n",
       "      <th>vin</th>\n",
       "      <th>владельцы</th>\n",
       "      <th>год выпуска</th>\n",
       "      <th>двигатель</th>\n",
       "      <th>коробка</th>\n",
       "      <th>кузов</th>\n",
       "      <th>налог</th>\n",
       "      <th>...</th>\n",
       "      <th>дтп ненайдены</th>\n",
       "      <th>почти как новый</th>\n",
       "      <th>гарантия</th>\n",
       "      <th>на гарантии</th>\n",
       "      <th>продаёт собственник</th>\n",
       "      <th>медленно теряет вцене</th>\n",
       "      <th>кузов №</th>\n",
       "      <th>desc_topic_0</th>\n",
       "      <th>desc_topic_1</th>\n",
       "      <th>desc_topic_2</th>\n",
       "    </tr>\n",
       "  </thead>\n",
       "  <tbody>\n",
       "    <tr>\n",
       "      <th>0</th>\n",
       "      <td>архангельск</td>\n",
       "      <td>volkswagen polo v</td>\n",
       "      <td>1.000</td>\n",
       "      <td>xw8**************</td>\n",
       "      <td>2владельца</td>\n",
       "      <td>2012</td>\n",
       "      <td>1.6 л / 105л.с. / бензин</td>\n",
       "      <td>механическая</td>\n",
       "      <td>седан</td>\n",
       "      <td>2625₽ / год</td>\n",
       "      <td>...</td>\n",
       "      <td>NaN</td>\n",
       "      <td>NaN</td>\n",
       "      <td>NaN</td>\n",
       "      <td>NaN</td>\n",
       "      <td>NaN</td>\n",
       "      <td>NaN</td>\n",
       "      <td>NaN</td>\n",
       "      <td>0.000</td>\n",
       "      <td>0.733</td>\n",
       "      <td>0.265</td>\n",
       "    </tr>\n",
       "    <tr>\n",
       "      <th>1</th>\n",
       "      <td>санкт-петербург</td>\n",
       "      <td>volkswagen polo v рестайлинг</td>\n",
       "      <td>1.000</td>\n",
       "      <td>xw8**************</td>\n",
       "      <td>2владельца</td>\n",
       "      <td>2017</td>\n",
       "      <td>1.6 л / 90л.с. / бензин</td>\n",
       "      <td>механическая</td>\n",
       "      <td>седан</td>\n",
       "      <td>2160₽ / год</td>\n",
       "      <td>...</td>\n",
       "      <td>NaN</td>\n",
       "      <td>NaN</td>\n",
       "      <td>NaN</td>\n",
       "      <td>NaN</td>\n",
       "      <td>NaN</td>\n",
       "      <td>NaN</td>\n",
       "      <td>NaN</td>\n",
       "      <td>0.900</td>\n",
       "      <td>0.023</td>\n",
       "      <td>0.077</td>\n",
       "    </tr>\n",
       "    <tr>\n",
       "      <th>2</th>\n",
       "      <td>минеральные воды</td>\n",
       "      <td>volkswagen polo v</td>\n",
       "      <td>1.000</td>\n",
       "      <td>xw8**************</td>\n",
       "      <td>1владелец</td>\n",
       "      <td>2014</td>\n",
       "      <td>1.6 л / 105л.с. / бензин</td>\n",
       "      <td>механическая</td>\n",
       "      <td>седан</td>\n",
       "      <td>1575₽ / год</td>\n",
       "      <td>...</td>\n",
       "      <td>1.000</td>\n",
       "      <td>NaN</td>\n",
       "      <td>NaN</td>\n",
       "      <td>NaN</td>\n",
       "      <td>NaN</td>\n",
       "      <td>NaN</td>\n",
       "      <td>NaN</td>\n",
       "      <td>0.000</td>\n",
       "      <td>0.994</td>\n",
       "      <td>0.000</td>\n",
       "    </tr>\n",
       "    <tr>\n",
       "      <th>3</th>\n",
       "      <td>северская</td>\n",
       "      <td>volkswagen polo v рестайлинг</td>\n",
       "      <td>1.000</td>\n",
       "      <td>xw8**************</td>\n",
       "      <td>1владелец</td>\n",
       "      <td>2018</td>\n",
       "      <td>1.6 л / 110л.с. / бензин</td>\n",
       "      <td>механическая</td>\n",
       "      <td>седан</td>\n",
       "      <td>2750₽ / год</td>\n",
       "      <td>...</td>\n",
       "      <td>NaN</td>\n",
       "      <td>1.000</td>\n",
       "      <td>NaN</td>\n",
       "      <td>NaN</td>\n",
       "      <td>NaN</td>\n",
       "      <td>NaN</td>\n",
       "      <td>NaN</td>\n",
       "      <td>0.960</td>\n",
       "      <td>0.000</td>\n",
       "      <td>0.039</td>\n",
       "    </tr>\n",
       "    <tr>\n",
       "      <th>4</th>\n",
       "      <td>бирск</td>\n",
       "      <td>volkswagen polo v рестайлинг</td>\n",
       "      <td>1.000</td>\n",
       "      <td>xw8**************</td>\n",
       "      <td>2владельца</td>\n",
       "      <td>2019</td>\n",
       "      <td>1.6 л / 110л.с. / бензин</td>\n",
       "      <td>автоматическая</td>\n",
       "      <td>седан</td>\n",
       "      <td>3850₽ / год</td>\n",
       "      <td>...</td>\n",
       "      <td>1.000</td>\n",
       "      <td>NaN</td>\n",
       "      <td>до марта 2030</td>\n",
       "      <td>1.000</td>\n",
       "      <td>NaN</td>\n",
       "      <td>NaN</td>\n",
       "      <td>NaN</td>\n",
       "      <td>0.994</td>\n",
       "      <td>0.000</td>\n",
       "      <td>0.000</td>\n",
       "    </tr>\n",
       "  </tbody>\n",
       "</table>\n",
       "<p>5 rows × 34 columns</p>\n",
       "</div>"
      ],
      "text/plain": [
       "               city                         model  photos                vin  \\\n",
       "0       архангельск             volkswagen polo v   1.000  xw8**************   \n",
       "1   санкт-петербург  volkswagen polo v рестайлинг   1.000  xw8**************   \n",
       "2  минеральные воды             volkswagen polo v   1.000  xw8**************   \n",
       "3         северская  volkswagen polo v рестайлинг   1.000  xw8**************   \n",
       "4             бирск  volkswagen polo v рестайлинг   1.000  xw8**************   \n",
       "\n",
       "    владельцы  год выпуска                 двигатель         коробка  кузов  \\\n",
       "0  2владельца         2012  1.6 л / 105л.с. / бензин    механическая  седан   \n",
       "1  2владельца         2017   1.6 л / 90л.с. / бензин    механическая  седан   \n",
       "2   1владелец         2014  1.6 л / 105л.с. / бензин    механическая  седан   \n",
       "3   1владелец         2018  1.6 л / 110л.с. / бензин    механическая  седан   \n",
       "4  2владельца         2019  1.6 л / 110л.с. / бензин  автоматическая  седан   \n",
       "\n",
       "         налог  ... дтп ненайдены почти как новый       гарантия на гарантии  \\\n",
       "0  2625₽ / год  ...           NaN             NaN            NaN         NaN   \n",
       "1  2160₽ / год  ...           NaN             NaN            NaN         NaN   \n",
       "2  1575₽ / год  ...         1.000             NaN            NaN         NaN   \n",
       "3  2750₽ / год  ...           NaN           1.000            NaN         NaN   \n",
       "4  3850₽ / год  ...         1.000             NaN  до марта 2030       1.000   \n",
       "\n",
       "  продаёт собственник медленно теряет вцене кузов № desc_topic_0 desc_topic_1  \\\n",
       "0                 NaN                   NaN     NaN        0.000        0.733   \n",
       "1                 NaN                   NaN     NaN        0.900        0.023   \n",
       "2                 NaN                   NaN     NaN        0.000        0.994   \n",
       "3                 NaN                   NaN     NaN        0.960        0.000   \n",
       "4                 NaN                   NaN     NaN        0.994        0.000   \n",
       "\n",
       "  desc_topic_2  \n",
       "0        0.265  \n",
       "1        0.077  \n",
       "2        0.000  \n",
       "3        0.039  \n",
       "4        0.000  \n",
       "\n",
       "[5 rows x 34 columns]"
      ]
     },
     "execution_count": 5,
     "metadata": {},
     "output_type": "execute_result"
    }
   ],
   "source": [
    "df.head()"
   ]
  },
  {
   "cell_type": "code",
   "execution_count": 6,
   "metadata": {},
   "outputs": [
    {
     "data": {
      "text/plain": [
       "2841"
      ]
     },
     "execution_count": 6,
     "metadata": {},
     "output_type": "execute_result"
    }
   ],
   "source": [
    "len(df)"
   ]
  },
  {
   "cell_type": "code",
   "execution_count": 7,
   "metadata": {},
   "outputs": [
    {
     "data": {
      "text/plain": [
       "москва             372\n",
       "санкт-петербург    230\n",
       "екатеринбург       118\n",
       "краснодар           93\n",
       "воронеж             67\n",
       "ростов-на-дону      66\n",
       "нижний новгород     55\n",
       "уфа                 54\n",
       "челябинск           52\n",
       "самара              50\n",
       "Name: city, dtype: int64"
      ]
     },
     "execution_count": 7,
     "metadata": {},
     "output_type": "execute_result"
    }
   ],
   "source": [
    "df['city'].value_counts().head(10)"
   ]
  },
  {
   "cell_type": "code",
   "execution_count": 8,
   "metadata": {},
   "outputs": [
    {
     "data": {
      "text/plain": [
       "1157"
      ]
     },
     "execution_count": 8,
     "metadata": {},
     "output_type": "execute_result"
    }
   ],
   "source": [
    "df['city'].value_counts().head(10).sum()"
   ]
  },
  {
   "cell_type": "code",
   "execution_count": 9,
   "metadata": {},
   "outputs": [
    {
     "data": {
      "text/plain": [
       "Index(['city', 'model', 'photos', 'vin', 'владельцы', 'год выпуска',\n",
       "       'двигатель', 'коробка', 'кузов', 'налог', 'обмен', 'описание', 'привод',\n",
       "       'пробег', 'птс', 'руль', 'состояние', 'таможня', 'цвет', 'цена',\n",
       "       'владение', 'госномер', 'онлайн-показ', '1 владелец', 'дтп ненайдены',\n",
       "       'почти как новый', 'гарантия', 'на гарантии', 'продаёт собственник',\n",
       "       'медленно теряет вцене', 'кузов №', 'desc_topic_0', 'desc_topic_1',\n",
       "       'desc_topic_2'],\n",
       "      dtype='object')"
      ]
     },
     "execution_count": 9,
     "metadata": {},
     "output_type": "execute_result"
    }
   ],
   "source": [
    "df.columns"
   ]
  },
  {
   "cell_type": "code",
   "execution_count": 10,
   "metadata": {},
   "outputs": [],
   "source": [
    "df = df.rename(columns={'владельцы': 'owners', 'год выпуска': 'year_of_release',\n",
    "                        'двигатель': 'engine', 'коробка': 'transmission',\n",
    "                        'кузов': 'car_type', 'налог': 'tax', 'привод': 'drive_type',\n",
    "                        'описание': 'description', 'пробег': 'mileage', 'птс': 'ptc',\n",
    "                        'руль': 'steering_wheel', 'состояние': 'condition', \n",
    "                        'таможня': 'customhouse', 'цвет': 'color', 'цена': 'price',\n",
    "                        'обмен': 'exchange', 'гарантия': 'guarantee', 'владение': 'ownership',\n",
    "                        'кузов №': 'body_type_number', 'запас хода': 'capacity reserve',\n",
    "                        'госномер': 'gos_num', 'кузов №': 'body_nomber', 'почти как новый': 'just_like_new',\n",
    "                        'дтп ненайдены': 'no_dtp', 'онлайн-показ': 'online_show',\n",
    "                        '1 владелец': 'one_owner', 'комплектация': 'equipment',\n",
    "                        'продаёт собственник': 'sells_owner', 'на гарантии': 'on_guarantee',\n",
    "                        'проверенный автомобиль': 'checked_auto', 'медленно теряет вцене': 'loses_price'})"
   ]
  },
  {
   "cell_type": "code",
   "execution_count": 11,
   "metadata": {},
   "outputs": [
    {
     "data": {
      "text/plain": [
       "Index(['city', 'model', 'photos', 'vin', 'owners', 'year_of_release', 'engine',\n",
       "       'transmission', 'car_type', 'tax', 'exchange', 'description',\n",
       "       'drive_type', 'mileage', 'ptc', 'steering_wheel', 'condition',\n",
       "       'customhouse', 'color', 'price', 'ownership', 'gos_num', 'online_show',\n",
       "       'one_owner', 'no_dtp', 'just_like_new', 'guarantee', 'on_guarantee',\n",
       "       'sells_owner', 'loses_price', 'body_nomber', 'desc_topic_0',\n",
       "       'desc_topic_1', 'desc_topic_2'],\n",
       "      dtype='object')"
      ]
     },
     "execution_count": 11,
     "metadata": {},
     "output_type": "execute_result"
    }
   ],
   "source": [
    "df.columns"
   ]
  },
  {
   "cell_type": "markdown",
   "metadata": {},
   "source": [
    "### Take nlp part"
   ]
  },
  {
   "cell_type": "code",
   "execution_count": 12,
   "metadata": {},
   "outputs": [],
   "source": [
    "nlp_part = df['description']\n",
    "df = df.drop(columns=['description'])"
   ]
  },
  {
   "cell_type": "markdown",
   "metadata": {},
   "source": [
    "### Mileage"
   ]
  },
  {
   "cell_type": "code",
   "execution_count": 13,
   "metadata": {},
   "outputs": [],
   "source": [
    "df['mileage'] = df['mileage'].apply(lambda x: str(x).replace('км', '')).astype('int')"
   ]
  },
  {
   "cell_type": "markdown",
   "metadata": {},
   "source": [
    "### Engine"
   ]
  },
  {
   "cell_type": "code",
   "execution_count": 14,
   "metadata": {},
   "outputs": [],
   "source": [
    "def split_engine_be_features(engine_str):\n",
    "    engine_split = engine_str.split('/')\n",
    "    \n",
    "    engine_volume = engine_split[0].strip().split(' ')[0]\n",
    "    engine_power = engine_split[1].strip().split(' ')[0]\n",
    "    engine_type = engine_split[2].strip()\n",
    "    \n",
    "    return engine_volume, engine_power, engine_type"
   ]
  },
  {
   "cell_type": "code",
   "execution_count": 15,
   "metadata": {},
   "outputs": [],
   "source": [
    "df['engine_volume'], df['engine_power'], df['engine_type'] = zip(*df['engine'].map(split_engine_be_features))\n",
    "\n",
    "df['engine_volume'] = df['engine_volume'].astype('float')\n",
    "\n",
    "df['engine_power'] = df['engine_power'].apply(lambda x: str(x).replace('л.с.', '')).astype('int')\n",
    "df['engine_power'] = df['engine_power'].astype('int')"
   ]
  },
  {
   "cell_type": "markdown",
   "metadata": {},
   "source": [
    "### Tax"
   ]
  },
  {
   "cell_type": "code",
   "execution_count": 16,
   "metadata": {},
   "outputs": [],
   "source": [
    "df = df[~df['tax'].isna()]"
   ]
  },
  {
   "cell_type": "code",
   "execution_count": 17,
   "metadata": {},
   "outputs": [],
   "source": [
    "df.loc[~df['tax'].isna(), 'tax'] = df['tax'].apply(lambda x: str(x).replace('₽ / год', '')).astype('int')"
   ]
  },
  {
   "cell_type": "markdown",
   "metadata": {},
   "source": [
    "### Online_show"
   ]
  },
  {
   "cell_type": "code",
   "execution_count": 18,
   "metadata": {},
   "outputs": [],
   "source": [
    "df.loc[~df['online_show'].isna(), 'online_show'] = True\n",
    "df.loc[df['online_show'].isna(), 'online_show'] = False"
   ]
  },
  {
   "cell_type": "markdown",
   "metadata": {},
   "source": [
    "### Car_type"
   ]
  },
  {
   "cell_type": "code",
   "execution_count": 19,
   "metadata": {},
   "outputs": [
    {
     "data": {
      "text/plain": [
       "седан              2550\n",
       "хэтчбек 5 дв.       186\n",
       "лифтбек              51\n",
       "хэтчбек 3 дв.        45\n",
       "универсал 5 дв.       6\n",
       "Name: car_type, dtype: int64"
      ]
     },
     "execution_count": 19,
     "metadata": {},
     "output_type": "execute_result"
    }
   ],
   "source": [
    "df['car_type'].value_counts()"
   ]
  },
  {
   "cell_type": "code",
   "execution_count": 20,
   "metadata": {},
   "outputs": [],
   "source": [
    "df = df.loc[df['car_type'] == 'седан']"
   ]
  },
  {
   "cell_type": "markdown",
   "metadata": {},
   "source": [
    "### Color"
   ]
  },
  {
   "cell_type": "code",
   "execution_count": 21,
   "metadata": {},
   "outputs": [
    {
     "data": {
      "text/plain": [
       "белый          1096\n",
       "серебристый     376\n",
       "чёрный          340\n",
       "серый           223\n",
       "синий           202\n",
       "коричневый      118\n",
       "бежевый          84\n",
       "красный          61\n",
       "жёлтый           26\n",
       "зелёный          10\n",
       "пурпурный         5\n",
       "золотистый        5\n",
       "оранжевый         2\n",
       "фиолетовый        1\n",
       "голубой           1\n",
       "Name: color, dtype: int64"
      ]
     },
     "execution_count": 21,
     "metadata": {},
     "output_type": "execute_result"
    }
   ],
   "source": [
    "df['color'].value_counts()"
   ]
  },
  {
   "cell_type": "code",
   "execution_count": 22,
   "metadata": {},
   "outputs": [
    {
     "data": {
      "text/plain": [
       "белый          False\n",
       "серебристый    False\n",
       "чёрный         False\n",
       "серый          False\n",
       "синий          False\n",
       "коричневый     False\n",
       "бежевый        False\n",
       "красный        False\n",
       "жёлтый         False\n",
       "зелёный         True\n",
       "пурпурный       True\n",
       "золотистый      True\n",
       "оранжевый       True\n",
       "фиолетовый      True\n",
       "голубой         True\n",
       "Name: color, dtype: bool"
      ]
     },
     "execution_count": 22,
     "metadata": {},
     "output_type": "execute_result"
    }
   ],
   "source": [
    "df['color'].value_counts(normalize=True) < 0.01"
   ]
  },
  {
   "cell_type": "markdown",
   "metadata": {},
   "source": [
    "### Owners"
   ]
  },
  {
   "cell_type": "code",
   "execution_count": 23,
   "metadata": {},
   "outputs": [
    {
     "data": {
      "text/plain": [
       "1владелец      1257\n",
       "2владельца      704\n",
       "3 или более     589\n",
       "Name: owners, dtype: int64"
      ]
     },
     "execution_count": 23,
     "metadata": {},
     "output_type": "execute_result"
    }
   ],
   "source": [
    "df['owners'].value_counts()"
   ]
  },
  {
   "cell_type": "code",
   "execution_count": 24,
   "metadata": {},
   "outputs": [],
   "source": [
    "df.loc[(df['one_owner'] == 1.0) | (df['owners'] == '1владелец'), 'owners'] = '1'\n",
    "df.loc[df['owners'] == '2владельца', 'owners'] = '2'\n",
    "df.loc[df['owners'] == '3 или более', 'owners'] = '3+'"
   ]
  },
  {
   "cell_type": "markdown",
   "metadata": {},
   "source": [
    "### Year_of_release"
   ]
  },
  {
   "cell_type": "code",
   "execution_count": 25,
   "metadata": {},
   "outputs": [
    {
     "data": {
      "text/plain": [
       "2016    424\n",
       "2018    335\n",
       "2017    325\n",
       "2013    270\n",
       "2019    235\n",
       "2015    230\n",
       "2012    220\n",
       "2011    193\n",
       "2014    193\n",
       "2020     48\n",
       "Name: year_of_release, dtype: int64"
      ]
     },
     "execution_count": 25,
     "metadata": {},
     "output_type": "execute_result"
    }
   ],
   "source": [
    "df['year_of_release'].value_counts().head(10)"
   ]
  },
  {
   "cell_type": "code",
   "execution_count": 26,
   "metadata": {},
   "outputs": [],
   "source": [
    "df['year_of_release'] = df['year_of_release'].astype('int')"
   ]
  },
  {
   "cell_type": "code",
   "execution_count": 27,
   "metadata": {},
   "outputs": [],
   "source": [
    "df = df.loc[df['year_of_release'].isin(df['year_of_release'].value_counts().head(10).index)]"
   ]
  },
  {
   "cell_type": "markdown",
   "metadata": {},
   "source": [
    "### No_dtp"
   ]
  },
  {
   "cell_type": "code",
   "execution_count": 28,
   "metadata": {},
   "outputs": [
    {
     "data": {
      "text/plain": [
       "NaN      1366\n",
       "1.000    1107\n",
       "Name: no_dtp, dtype: int64"
      ]
     },
     "execution_count": 28,
     "metadata": {},
     "output_type": "execute_result"
    }
   ],
   "source": [
    "df['no_dtp'].value_counts(dropna=False)"
   ]
  },
  {
   "cell_type": "code",
   "execution_count": 29,
   "metadata": {},
   "outputs": [],
   "source": [
    "df.loc[~df['no_dtp'].isna(), 'no_dtp'] = 'true'\n",
    "df.loc[df['no_dtp'].isna(), 'no_dtp'] = 'unknown'"
   ]
  },
  {
   "cell_type": "code",
   "execution_count": 30,
   "metadata": {},
   "outputs": [
    {
     "data": {
      "text/plain": [
       "unknown    1366\n",
       "true       1107\n",
       "Name: no_dtp, dtype: int64"
      ]
     },
     "execution_count": 30,
     "metadata": {},
     "output_type": "execute_result"
    }
   ],
   "source": [
    "df['no_dtp'].value_counts()"
   ]
  },
  {
   "cell_type": "markdown",
   "metadata": {},
   "source": [
    "### Exchange"
   ]
  },
  {
   "cell_type": "code",
   "execution_count": 31,
   "metadata": {},
   "outputs": [
    {
     "data": {
      "text/plain": [
       "NaN                   1683\n",
       "рассмотрю варианты     790\n",
       "Name: exchange, dtype: int64"
      ]
     },
     "execution_count": 31,
     "metadata": {},
     "output_type": "execute_result"
    }
   ],
   "source": [
    "df['exchange'].value_counts(dropna=False)"
   ]
  },
  {
   "cell_type": "code",
   "execution_count": 32,
   "metadata": {},
   "outputs": [],
   "source": [
    "df['exchange'] = df['exchange'].apply(lambda x: True if pd.notna(x) else False)"
   ]
  },
  {
   "cell_type": "code",
   "execution_count": 33,
   "metadata": {},
   "outputs": [
    {
     "data": {
      "text/plain": [
       "False    1683\n",
       "True      790\n",
       "Name: exchange, dtype: int64"
      ]
     },
     "execution_count": 33,
     "metadata": {},
     "output_type": "execute_result"
    }
   ],
   "source": [
    "df['exchange'].value_counts(dropna=False)"
   ]
  },
  {
   "cell_type": "markdown",
   "metadata": {},
   "source": [
    "### Ptc"
   ]
  },
  {
   "cell_type": "code",
   "execution_count": 34,
   "metadata": {},
   "outputs": [
    {
     "data": {
      "text/plain": [
       "оригинал    2362\n",
       "дубликат     111\n",
       "Name: ptc, dtype: int64"
      ]
     },
     "execution_count": 34,
     "metadata": {},
     "output_type": "execute_result"
    }
   ],
   "source": [
    "df['ptc'].value_counts(dropna=False)"
   ]
  },
  {
   "cell_type": "markdown",
   "metadata": {},
   "source": [
    "### Sells_owner"
   ]
  },
  {
   "cell_type": "code",
   "execution_count": 35,
   "metadata": {},
   "outputs": [
    {
     "data": {
      "text/plain": [
       "NaN      2228\n",
       "1.000     245\n",
       "Name: sells_owner, dtype: int64"
      ]
     },
     "execution_count": 35,
     "metadata": {},
     "output_type": "execute_result"
    }
   ],
   "source": [
    "df['sells_owner'].value_counts(dropna=False)"
   ]
  },
  {
   "cell_type": "code",
   "execution_count": 36,
   "metadata": {},
   "outputs": [],
   "source": [
    "df.loc[df['sells_owner'] == 1.0, 'sells_owner'] = 'true'\n",
    "df.loc[df['sells_owner'].isna(), 'sells_owner'] = 'unknown'"
   ]
  },
  {
   "cell_type": "code",
   "execution_count": 37,
   "metadata": {},
   "outputs": [
    {
     "data": {
      "text/plain": [
       "unknown    2228\n",
       "true        245\n",
       "Name: sells_owner, dtype: int64"
      ]
     },
     "execution_count": 37,
     "metadata": {},
     "output_type": "execute_result"
    }
   ],
   "source": [
    "df['sells_owner'].value_counts(dropna=False)"
   ]
  },
  {
   "cell_type": "markdown",
   "metadata": {},
   "source": [
    "### Price"
   ]
  },
  {
   "cell_type": "code",
   "execution_count": 38,
   "metadata": {},
   "outputs": [],
   "source": [
    "df['price'] = df['price'].apply(lambda x: x.split(' ')[-1].replace('₽', '').strip()).astype('int')"
   ]
  },
  {
   "cell_type": "markdown",
   "metadata": {},
   "source": [
    "### Model"
   ]
  },
  {
   "cell_type": "code",
   "execution_count": 39,
   "metadata": {},
   "outputs": [
    {
     "data": {
      "text/plain": [
       "volkswagen polo v рестайлинг    1508\n",
       "volkswagen polo v                965\n",
       "Name: model, dtype: int64"
      ]
     },
     "execution_count": 39,
     "metadata": {},
     "output_type": "execute_result"
    }
   ],
   "source": [
    "df['model'].value_counts()"
   ]
  },
  {
   "cell_type": "code",
   "execution_count": 40,
   "metadata": {},
   "outputs": [],
   "source": [
    "df = df.loc[df['model'].isin(df['model'].value_counts().loc[df['model'].value_counts(normalize=True) > 0.05].index)]"
   ]
  },
  {
   "cell_type": "markdown",
   "metadata": {},
   "source": [
    "### Photos"
   ]
  },
  {
   "cell_type": "code",
   "execution_count": 41,
   "metadata": {},
   "outputs": [
    {
     "data": {
      "text/plain": [
       "1.000    2207\n",
       "0.000     266\n",
       "Name: photos, dtype: int64"
      ]
     },
     "execution_count": 41,
     "metadata": {},
     "output_type": "execute_result"
    }
   ],
   "source": [
    "df['photos'].value_counts()"
   ]
  },
  {
   "cell_type": "code",
   "execution_count": 42,
   "metadata": {},
   "outputs": [],
   "source": [
    "df.loc[df['photos'] == 1.0, 'photos'] = True\n",
    "df.loc[df['photos'] == 0.0, 'photos'] = False"
   ]
  },
  {
   "cell_type": "code",
   "execution_count": 43,
   "metadata": {},
   "outputs": [
    {
     "data": {
      "text/plain": [
       "True     2207\n",
       "False     266\n",
       "Name: photos, dtype: int64"
      ]
     },
     "execution_count": 43,
     "metadata": {},
     "output_type": "execute_result"
    }
   ],
   "source": [
    "df['photos'].value_counts()"
   ]
  },
  {
   "cell_type": "markdown",
   "metadata": {},
   "source": [
    "### City"
   ]
  },
  {
   "cell_type": "code",
   "execution_count": 44,
   "metadata": {},
   "outputs": [],
   "source": [
    "df = df.loc[df['city'].isin(df['city'].value_counts().head(10).index)]"
   ]
  },
  {
   "cell_type": "code",
   "execution_count": 45,
   "metadata": {},
   "outputs": [
    {
     "name": "stdout",
     "output_type": "stream",
     "text": [
      "<class 'pandas.core.frame.DataFrame'>\n",
      "Int64Index: 1063 entries, 1 to 2913\n",
      "Data columns (total 36 columns):\n",
      " #   Column           Non-Null Count  Dtype  \n",
      "---  ------           --------------  -----  \n",
      " 0   city             1063 non-null   object \n",
      " 1   model            1063 non-null   object \n",
      " 2   photos           1063 non-null   object \n",
      " 3   vin              1063 non-null   object \n",
      " 4   owners           1063 non-null   object \n",
      " 5   year_of_release  1063 non-null   int64  \n",
      " 6   engine           1063 non-null   object \n",
      " 7   transmission     1063 non-null   object \n",
      " 8   car_type         1063 non-null   object \n",
      " 9   tax              1063 non-null   int64  \n",
      " 10  exchange         1063 non-null   bool   \n",
      " 11  drive_type       1063 non-null   object \n",
      " 12  mileage          1063 non-null   int64  \n",
      " 13  ptc              1063 non-null   object \n",
      " 14  steering_wheel   1063 non-null   object \n",
      " 15  condition        1063 non-null   object \n",
      " 16  customhouse      1063 non-null   object \n",
      " 17  color            1063 non-null   object \n",
      " 18  price            1063 non-null   int64  \n",
      " 19  ownership        209 non-null    object \n",
      " 20  gos_num          556 non-null    object \n",
      " 21  online_show      1063 non-null   object \n",
      " 22  one_owner        473 non-null    float64\n",
      " 23  no_dtp           1063 non-null   object \n",
      " 24  just_like_new    17 non-null     float64\n",
      " 25  guarantee        119 non-null    object \n",
      " 26  on_guarantee     29 non-null     float64\n",
      " 27  sells_owner      1063 non-null   object \n",
      " 28  loses_price      55 non-null     float64\n",
      " 29  body_nomber      0 non-null      object \n",
      " 30  desc_topic_0     1063 non-null   float64\n",
      " 31  desc_topic_1     1063 non-null   float64\n",
      " 32  desc_topic_2     1063 non-null   float64\n",
      " 33  engine_volume    1063 non-null   float64\n",
      " 34  engine_power     1063 non-null   int64  \n",
      " 35  engine_type      1063 non-null   object \n",
      "dtypes: bool(1), float64(8), int64(5), object(22)\n",
      "memory usage: 300.0+ KB\n"
     ]
    }
   ],
   "source": [
    "df.info()"
   ]
  },
  {
   "cell_type": "code",
   "execution_count": 46,
   "metadata": {},
   "outputs": [
    {
     "data": {
      "text/plain": [
       "Index(['city', 'model', 'photos', 'vin', 'owners', 'year_of_release', 'engine',\n",
       "       'transmission', 'car_type', 'tax', 'exchange', 'drive_type', 'mileage',\n",
       "       'ptc', 'steering_wheel', 'condition', 'customhouse', 'color', 'price',\n",
       "       'ownership', 'gos_num', 'online_show', 'one_owner', 'no_dtp',\n",
       "       'just_like_new', 'guarantee', 'on_guarantee', 'sells_owner',\n",
       "       'loses_price', 'body_nomber', 'desc_topic_0', 'desc_topic_1',\n",
       "       'desc_topic_2', 'engine_volume', 'engine_power', 'engine_type'],\n",
       "      dtype='object')"
      ]
     },
     "execution_count": 46,
     "metadata": {},
     "output_type": "execute_result"
    }
   ],
   "source": [
    "df.columns"
   ]
  },
  {
   "cell_type": "code",
   "execution_count": 47,
   "metadata": {},
   "outputs": [],
   "source": [
    "columns_to_remove = ['engine', 'drive_type', 'one_owner',\n",
    "                     'vin', 'steering_wheel', 'condition',\n",
    "                     'gos_num', 'ownership', 'guarantee', \n",
    "                     'on_guarantee', 'loses_price', 'engine_type',\n",
    "                     'just_like_new', 'body_nomber', 'car_type',\n",
    "                     'customhouse']"
   ]
  },
  {
   "cell_type": "code",
   "execution_count": 48,
   "metadata": {},
   "outputs": [],
   "source": [
    "df = df.drop(columns=columns_to_remove)"
   ]
  },
  {
   "cell_type": "code",
   "execution_count": 49,
   "metadata": {},
   "outputs": [
    {
     "name": "stdout",
     "output_type": "stream",
     "text": [
      "<class 'pandas.core.frame.DataFrame'>\n",
      "Int64Index: 1063 entries, 1 to 2913\n",
      "Data columns (total 20 columns):\n",
      " #   Column           Non-Null Count  Dtype  \n",
      "---  ------           --------------  -----  \n",
      " 0   city             1063 non-null   object \n",
      " 1   model            1063 non-null   object \n",
      " 2   photos           1063 non-null   object \n",
      " 3   owners           1063 non-null   object \n",
      " 4   year_of_release  1063 non-null   int64  \n",
      " 5   transmission     1063 non-null   object \n",
      " 6   tax              1063 non-null   int64  \n",
      " 7   exchange         1063 non-null   bool   \n",
      " 8   mileage          1063 non-null   int64  \n",
      " 9   ptc              1063 non-null   object \n",
      " 10  color            1063 non-null   object \n",
      " 11  price            1063 non-null   int64  \n",
      " 12  online_show      1063 non-null   object \n",
      " 13  no_dtp           1063 non-null   object \n",
      " 14  sells_owner      1063 non-null   object \n",
      " 15  desc_topic_0     1063 non-null   float64\n",
      " 16  desc_topic_1     1063 non-null   float64\n",
      " 17  desc_topic_2     1063 non-null   float64\n",
      " 18  engine_volume    1063 non-null   float64\n",
      " 19  engine_power     1063 non-null   int64  \n",
      "dtypes: bool(1), float64(4), int64(5), object(10)\n",
      "memory usage: 167.1+ KB\n"
     ]
    }
   ],
   "source": [
    "df.info()"
   ]
  },
  {
   "cell_type": "code",
   "execution_count": 50,
   "metadata": {},
   "outputs": [],
   "source": [
    "cols_with_incorrect_low_values = ['color', 'engine_volume', 'engine_power']\n",
    "for col in cols_with_incorrect_low_values:\n",
    "    values_above = df[col].value_counts().loc[df[col].value_counts(normalize=True) < 0.05].index\n",
    "    df = df[~df[col].isin(values_above)]"
   ]
  },
  {
   "cell_type": "code",
   "execution_count": 51,
   "metadata": {},
   "outputs": [
    {
     "data": {
      "text/plain": [
       "city                10\n",
       "model                2\n",
       "photos               2\n",
       "owners               3\n",
       "year_of_release     10\n",
       "transmission         2\n",
       "tax                 24\n",
       "exchange             2\n",
       "mileage            664\n",
       "ptc                  2\n",
       "color                6\n",
       "price              333\n",
       "online_show          2\n",
       "no_dtp               2\n",
       "sells_owner          2\n",
       "desc_topic_0       620\n",
       "desc_topic_1       447\n",
       "desc_topic_2       524\n",
       "engine_volume        1\n",
       "engine_power         3\n",
       "dtype: int64"
      ]
     },
     "execution_count": 51,
     "metadata": {},
     "output_type": "execute_result"
    }
   ],
   "source": [
    "df.nunique()"
   ]
  },
  {
   "cell_type": "code",
   "execution_count": 52,
   "metadata": {},
   "outputs": [
    {
     "data": {
      "text/plain": [
       "930"
      ]
     },
     "execution_count": 52,
     "metadata": {},
     "output_type": "execute_result"
    }
   ],
   "source": [
    "len(df)"
   ]
  },
  {
   "cell_type": "markdown",
   "metadata": {},
   "source": [
    "### Concert categorical and numeric features"
   ]
  },
  {
   "cell_type": "code",
   "execution_count": 53,
   "metadata": {},
   "outputs": [],
   "source": [
    "categorical_features = ['city', 'model', 'photos', 'transmission', 'online_show', 'color', 'owners',\n",
    "                        'no_dtp', 'exchange', 'ptc', 'sells_owner', \n",
    "                        'engine_volume', 'engine_power']\n",
    "\n",
    "numeric_features = ['tax', 'year_of_release', 'mileage']"
   ]
  },
  {
   "cell_type": "code",
   "execution_count": 54,
   "metadata": {},
   "outputs": [],
   "source": [
    "df = pd.get_dummies(data=df, columns=categorical_features, drop_first=True)"
   ]
  },
  {
   "cell_type": "code",
   "execution_count": 55,
   "metadata": {},
   "outputs": [],
   "source": [
    "for num_feature in numeric_features:\n",
    "    df[num_feature] = df[num_feature].astype('int')"
   ]
  },
  {
   "cell_type": "code",
   "execution_count": 56,
   "metadata": {},
   "outputs": [
    {
     "name": "stdout",
     "output_type": "stream",
     "text": [
      "<class 'pandas.core.frame.DataFrame'>\n",
      "Int64Index: 930 entries, 1 to 2913\n",
      "Data columns (total 33 columns):\n",
      " #   Column                              Non-Null Count  Dtype  \n",
      "---  ------                              --------------  -----  \n",
      " 0   year_of_release                     930 non-null    int64  \n",
      " 1   tax                                 930 non-null    int64  \n",
      " 2   mileage                             930 non-null    int64  \n",
      " 3   price                               930 non-null    int64  \n",
      " 4   desc_topic_0                        930 non-null    float64\n",
      " 5   desc_topic_1                        930 non-null    float64\n",
      " 6   desc_topic_2                        930 non-null    float64\n",
      " 7   city_екатеринбург                   930 non-null    uint8  \n",
      " 8   city_краснодар                      930 non-null    uint8  \n",
      " 9   city_москва                         930 non-null    uint8  \n",
      " 10  city_нижний новгород                930 non-null    uint8  \n",
      " 11  city_ростов-на-дону                 930 non-null    uint8  \n",
      " 12  city_самара                         930 non-null    uint8  \n",
      " 13  city_санкт-петербург                930 non-null    uint8  \n",
      " 14  city_уфа                            930 non-null    uint8  \n",
      " 15  city_челябинск                      930 non-null    uint8  \n",
      " 16  model_volkswagen polo v рестайлинг  930 non-null    uint8  \n",
      " 17  photos_True                         930 non-null    uint8  \n",
      " 18  transmission_механическая           930 non-null    uint8  \n",
      " 19  online_show_True                    930 non-null    uint8  \n",
      " 20  color_коричневый                    930 non-null    uint8  \n",
      " 21  color_серебристый                   930 non-null    uint8  \n",
      " 22  color_серый                         930 non-null    uint8  \n",
      " 23  color_синий                         930 non-null    uint8  \n",
      " 24  color_чёрный                        930 non-null    uint8  \n",
      " 25  owners_2                            930 non-null    uint8  \n",
      " 26  owners_3+                           930 non-null    uint8  \n",
      " 27  no_dtp_unknown                      930 non-null    uint8  \n",
      " 28  exchange_True                       930 non-null    uint8  \n",
      " 29  ptc_оригинал                        930 non-null    uint8  \n",
      " 30  sells_owner_unknown                 930 non-null    uint8  \n",
      " 31  engine_power_105                    930 non-null    uint8  \n",
      " 32  engine_power_110                    930 non-null    uint8  \n",
      "dtypes: float64(3), int64(4), uint8(26)\n",
      "memory usage: 81.7 KB\n"
     ]
    }
   ],
   "source": [
    "df.info()"
   ]
  },
  {
   "cell_type": "markdown",
   "metadata": {},
   "source": [
    "### Drop NA"
   ]
  },
  {
   "cell_type": "code",
   "execution_count": 57,
   "metadata": {},
   "outputs": [],
   "source": [
    "df = df.dropna(how='any')"
   ]
  },
  {
   "cell_type": "markdown",
   "metadata": {},
   "source": [
    "### Split data"
   ]
  },
  {
   "cell_type": "code",
   "execution_count": 58,
   "metadata": {},
   "outputs": [],
   "source": [
    "X_train, X_test, y_train, y_test = train_test_split(df.drop(columns=['price']),\n",
    "                                                    df['price'], \n",
    "                                                    test_size=0.25)"
   ]
  },
  {
   "cell_type": "code",
   "execution_count": 59,
   "metadata": {},
   "outputs": [
    {
     "data": {
      "text/plain": [
       "((697, 32), (233, 32))"
      ]
     },
     "execution_count": 59,
     "metadata": {},
     "output_type": "execute_result"
    }
   ],
   "source": [
    "X_train.shape, X_test.shape"
   ]
  },
  {
   "cell_type": "markdown",
   "metadata": {},
   "source": [
    "### Scaling"
   ]
  },
  {
   "cell_type": "code",
   "execution_count": 60,
   "metadata": {},
   "outputs": [],
   "source": [
    "scaler_x = MinMaxScaler()\n",
    "X_train[numeric_features] = scaler_x.fit_transform(X_train[numeric_features])\n",
    "X_test[numeric_features] = scaler_x.transform(X_test[numeric_features])"
   ]
  },
  {
   "cell_type": "code",
   "execution_count": 61,
   "metadata": {},
   "outputs": [],
   "source": [
    "X_train_for_nlp = X_train.copy()\n",
    "X_test_for_nlp = X_test.copy()\n",
    "\n",
    "X_train = X_train.drop(columns=['desc_topic_0', 'desc_topic_1', 'desc_topic_2'])\n",
    "X_test = X_test.drop(columns=['desc_topic_0', 'desc_topic_1', 'desc_topic_2'])"
   ]
  },
  {
   "cell_type": "markdown",
   "metadata": {},
   "source": [
    "## Modeling"
   ]
  },
  {
   "cell_type": "code",
   "execution_count": 62,
   "metadata": {},
   "outputs": [
    {
     "data": {
      "text/plain": [
       "(650000.0, 649000.0)"
      ]
     },
     "execution_count": 62,
     "metadata": {},
     "output_type": "execute_result"
    }
   ],
   "source": [
    "y_train.median(), y_test.median()"
   ]
  },
  {
   "cell_type": "markdown",
   "metadata": {},
   "source": [
    "### BaseLine"
   ]
  },
  {
   "cell_type": "code",
   "execution_count": 63,
   "metadata": {},
   "outputs": [],
   "source": [
    "def mean_absolute_percentage_error(y_true, y_pred): \n",
    "    y_true, y_pred = np.array(y_true), np.array(y_pred)\n",
    "    return np.mean(np.abs((y_true - y_pred) / y_true)) * 100\n",
    "\n",
    "def dataframe_metrics(y_test,y_pred):\n",
    "    stats = [\n",
    "       metrics.mean_absolute_error(y_test, y_pred),\n",
    "       np.sqrt(metrics.mean_squared_error(y_test, y_pred)),\n",
    "       metrics.r2_score(y_test, y_pred),\n",
    "       mean_absolute_percentage_error(y_test, y_pred)\n",
    "    ]\n",
    "    return stats"
   ]
  },
  {
   "cell_type": "code",
   "execution_count": 64,
   "metadata": {},
   "outputs": [
    {
     "data": {
      "text/html": [
       "<div>\n",
       "<style scoped>\n",
       "    .dataframe tbody tr th:only-of-type {\n",
       "        vertical-align: middle;\n",
       "    }\n",
       "\n",
       "    .dataframe tbody tr th {\n",
       "        vertical-align: top;\n",
       "    }\n",
       "\n",
       "    .dataframe thead th {\n",
       "        text-align: right;\n",
       "    }\n",
       "</style>\n",
       "<table border=\"1\" class=\"dataframe\">\n",
       "  <thead>\n",
       "    <tr style=\"text-align: right;\">\n",
       "      <th></th>\n",
       "    </tr>\n",
       "    <tr>\n",
       "      <th>error_type</th>\n",
       "    </tr>\n",
       "  </thead>\n",
       "  <tbody>\n",
       "    <tr>\n",
       "      <th>MAE</th>\n",
       "    </tr>\n",
       "    <tr>\n",
       "      <th>RMSE</th>\n",
       "    </tr>\n",
       "    <tr>\n",
       "      <th>R2</th>\n",
       "    </tr>\n",
       "    <tr>\n",
       "      <th>MAPE</th>\n",
       "    </tr>\n",
       "  </tbody>\n",
       "</table>\n",
       "</div>"
      ],
      "text/plain": [
       "Empty DataFrame\n",
       "Columns: []\n",
       "Index: [MAE, RMSE, R2, MAPE]"
      ]
     },
     "execution_count": 64,
     "metadata": {},
     "output_type": "execute_result"
    }
   ],
   "source": [
    "measured_metrics = pd.DataFrame({\"error_type\":[\"MAE\", \"RMSE\", \"R2\", \"MAPE\"]})\n",
    "measured_metrics.set_index(\"error_type\")"
   ]
  },
  {
   "cell_type": "code",
   "execution_count": 65,
   "metadata": {},
   "outputs": [
    {
     "data": {
      "text/html": [
       "<div>\n",
       "<style scoped>\n",
       "    .dataframe tbody tr th:only-of-type {\n",
       "        vertical-align: middle;\n",
       "    }\n",
       "\n",
       "    .dataframe tbody tr th {\n",
       "        vertical-align: top;\n",
       "    }\n",
       "\n",
       "    .dataframe thead th {\n",
       "        text-align: right;\n",
       "    }\n",
       "</style>\n",
       "<table border=\"1\" class=\"dataframe\">\n",
       "  <thead>\n",
       "    <tr style=\"text-align: right;\">\n",
       "      <th></th>\n",
       "      <th>error_type</th>\n",
       "      <th>baseline</th>\n",
       "    </tr>\n",
       "  </thead>\n",
       "  <tbody>\n",
       "    <tr>\n",
       "      <th>0</th>\n",
       "      <td>MAE</td>\n",
       "      <td>134233.047</td>\n",
       "    </tr>\n",
       "    <tr>\n",
       "      <th>1</th>\n",
       "      <td>RMSE</td>\n",
       "      <td>165609.119</td>\n",
       "    </tr>\n",
       "    <tr>\n",
       "      <th>2</th>\n",
       "      <td>R2</td>\n",
       "      <td>-0.008</td>\n",
       "    </tr>\n",
       "    <tr>\n",
       "      <th>3</th>\n",
       "      <td>MAPE</td>\n",
       "      <td>24.042</td>\n",
       "    </tr>\n",
       "  </tbody>\n",
       "</table>\n",
       "</div>"
      ],
      "text/plain": [
       "  error_type   baseline\n",
       "0        MAE 134233.047\n",
       "1       RMSE 165609.119\n",
       "2         R2     -0.008\n",
       "3       MAPE     24.042"
      ]
     },
     "execution_count": 65,
     "metadata": {},
     "output_type": "execute_result"
    }
   ],
   "source": [
    "median_train = y_train.median()\n",
    "baseline = np.array([median_train] * len(y_test))\n",
    "measured_metrics['baseline'] = dataframe_metrics(y_test, baseline)\n",
    "measured_metrics"
   ]
  },
  {
   "cell_type": "markdown",
   "metadata": {},
   "source": [
    "### Linear Reg"
   ]
  },
  {
   "cell_type": "code",
   "execution_count": 66,
   "metadata": {},
   "outputs": [
    {
     "data": {
      "text/plain": [
       "LinearRegression()"
      ]
     },
     "execution_count": 66,
     "metadata": {},
     "output_type": "execute_result"
    }
   ],
   "source": [
    "lin_reg = LinearRegression()\n",
    "\n",
    "lin_reg.fit(X_train, y_train)"
   ]
  },
  {
   "cell_type": "code",
   "execution_count": 67,
   "metadata": {},
   "outputs": [
    {
     "data": {
      "image/png": "[encoded data removed]",
      "text/plain": [
       "<Figure size 1440x432 with 1 Axes>"
      ]
     },
     "metadata": {
      "needs_background": "light"
     },
     "output_type": "display_data"
    }
   ],
   "source": [
    "featureImportance = pd.DataFrame({\"feature\": X_train.columns, \n",
    "                                  \"importance\": lin_reg.coef_})\n",
    "\n",
    "featureImportance.set_index('feature', inplace=True)\n",
    "featureImportance.sort_values([\"importance\"], ascending=False, inplace=True)\n",
    "featureImportance[\"importance\"].plot(kind='bar', figsize=(20, 6));"
   ]
  },
  {
   "cell_type": "code",
   "execution_count": 68,
   "metadata": {},
   "outputs": [],
   "source": [
    "predictions = lin_reg.predict(X_test)"
   ]
  },
  {
   "cell_type": "code",
   "execution_count": 69,
   "metadata": {},
   "outputs": [
    {
     "data": {
      "text/html": [
       "<div>\n",
       "<style scoped>\n",
       "    .dataframe tbody tr th:only-of-type {\n",
       "        vertical-align: middle;\n",
       "    }\n",
       "\n",
       "    .dataframe tbody tr th {\n",
       "        vertical-align: top;\n",
       "    }\n",
       "\n",
       "    .dataframe thead th {\n",
       "        text-align: right;\n",
       "    }\n",
       "</style>\n",
       "<table border=\"1\" class=\"dataframe\">\n",
       "  <thead>\n",
       "    <tr style=\"text-align: right;\">\n",
       "      <th></th>\n",
       "      <th>error_type</th>\n",
       "      <th>baseline</th>\n",
       "      <th>lin_reg</th>\n",
       "    </tr>\n",
       "  </thead>\n",
       "  <tbody>\n",
       "    <tr>\n",
       "      <th>0</th>\n",
       "      <td>MAE</td>\n",
       "      <td>134233.047</td>\n",
       "      <td>43708.645</td>\n",
       "    </tr>\n",
       "    <tr>\n",
       "      <th>1</th>\n",
       "      <td>RMSE</td>\n",
       "      <td>165609.119</td>\n",
       "      <td>54947.303</td>\n",
       "    </tr>\n",
       "    <tr>\n",
       "      <th>2</th>\n",
       "      <td>R2</td>\n",
       "      <td>-0.008</td>\n",
       "      <td>0.889</td>\n",
       "    </tr>\n",
       "    <tr>\n",
       "      <th>3</th>\n",
       "      <td>MAPE</td>\n",
       "      <td>24.042</td>\n",
       "      <td>7.425</td>\n",
       "    </tr>\n",
       "  </tbody>\n",
       "</table>\n",
       "</div>"
      ],
      "text/plain": [
       "  error_type   baseline   lin_reg\n",
       "0        MAE 134233.047 43708.645\n",
       "1       RMSE 165609.119 54947.303\n",
       "2         R2     -0.008     0.889\n",
       "3       MAPE     24.042     7.425"
      ]
     },
     "execution_count": 69,
     "metadata": {},
     "output_type": "execute_result"
    }
   ],
   "source": [
    "measured_metrics[\"lin_reg\"] = dataframe_metrics(y_test, predictions)\n",
    "measured_metrics"
   ]
  },
  {
   "cell_type": "code",
   "execution_count": 70,
   "metadata": {},
   "outputs": [
    {
     "data": {
      "text/html": [
       "<div>\n",
       "<style scoped>\n",
       "    .dataframe tbody tr th:only-of-type {\n",
       "        vertical-align: middle;\n",
       "    }\n",
       "\n",
       "    .dataframe tbody tr th {\n",
       "        vertical-align: top;\n",
       "    }\n",
       "\n",
       "    .dataframe thead th {\n",
       "        text-align: right;\n",
       "    }\n",
       "</style>\n",
       "<table border=\"1\" class=\"dataframe\">\n",
       "  <thead>\n",
       "    <tr style=\"text-align: right;\">\n",
       "      <th></th>\n",
       "      <th>price</th>\n",
       "    </tr>\n",
       "  </thead>\n",
       "  <tbody>\n",
       "    <tr>\n",
       "      <th>count</th>\n",
       "      <td>930.000</td>\n",
       "    </tr>\n",
       "    <tr>\n",
       "      <th>mean</th>\n",
       "      <td>643156.410</td>\n",
       "    </tr>\n",
       "    <tr>\n",
       "      <th>std</th>\n",
       "      <td>161594.890</td>\n",
       "    </tr>\n",
       "    <tr>\n",
       "      <th>min</th>\n",
       "      <td>300000.000</td>\n",
       "    </tr>\n",
       "    <tr>\n",
       "      <th>25%</th>\n",
       "      <td>505000.000</td>\n",
       "    </tr>\n",
       "    <tr>\n",
       "      <th>50%</th>\n",
       "      <td>649000.000</td>\n",
       "    </tr>\n",
       "    <tr>\n",
       "      <th>75%</th>\n",
       "      <td>755000.000</td>\n",
       "    </tr>\n",
       "    <tr>\n",
       "      <th>max</th>\n",
       "      <td>1080000.000</td>\n",
       "    </tr>\n",
       "  </tbody>\n",
       "</table>\n",
       "</div>"
      ],
      "text/plain": [
       "            price\n",
       "count     930.000\n",
       "mean   643156.410\n",
       "std    161594.890\n",
       "min    300000.000\n",
       "25%    505000.000\n",
       "50%    649000.000\n",
       "75%    755000.000\n",
       "max   1080000.000"
      ]
     },
     "execution_count": 70,
     "metadata": {},
     "output_type": "execute_result"
    }
   ],
   "source": [
    "df[['price']].describe()"
   ]
  },
  {
   "cell_type": "markdown",
   "metadata": {},
   "source": [
    "## RidgeCV"
   ]
  },
  {
   "cell_type": "code",
   "execution_count": 71,
   "metadata": {},
   "outputs": [
    {
     "data": {
      "text/plain": [
       "RidgeCV(alphas=array([ 0.1,  1. , 10. ]))"
      ]
     },
     "execution_count": 71,
     "metadata": {},
     "output_type": "execute_result"
    }
   ],
   "source": [
    "ridge_cv = RidgeCV()\n",
    "\n",
    "ridge_cv.fit(X_train, y_train)"
   ]
  },
  {
   "cell_type": "code",
   "execution_count": 72,
   "metadata": {},
   "outputs": [
    {
     "data": {
      "image/png": "[encoded data removed]",
      "text/plain": [
       "<Figure size 1296x432 with 1 Axes>"
      ]
     },
     "metadata": {
      "needs_background": "light"
     },
     "output_type": "display_data"
    }
   ],
   "source": [
    "featureImportance = pd.DataFrame({\"feature\": X_train.columns, \n",
    "                                  \"importance\": ridge_cv.coef_})\n",
    "\n",
    "featureImportance.set_index('feature', inplace=True)\n",
    "featureImportance.sort_values([\"importance\"], ascending=False, inplace=True)\n",
    "featureImportance[\"importance\"].plot(kind='bar', figsize=(18, 6));"
   ]
  },
  {
   "cell_type": "code",
   "execution_count": 73,
   "metadata": {},
   "outputs": [
    {
     "data": {
      "text/html": [
       "<div>\n",
       "<style scoped>\n",
       "    .dataframe tbody tr th:only-of-type {\n",
       "        vertical-align: middle;\n",
       "    }\n",
       "\n",
       "    .dataframe tbody tr th {\n",
       "        vertical-align: top;\n",
       "    }\n",
       "\n",
       "    .dataframe thead th {\n",
       "        text-align: right;\n",
       "    }\n",
       "</style>\n",
       "<table border=\"1\" class=\"dataframe\">\n",
       "  <thead>\n",
       "    <tr style=\"text-align: right;\">\n",
       "      <th></th>\n",
       "      <th>error_type</th>\n",
       "      <th>baseline</th>\n",
       "      <th>lin_reg</th>\n",
       "      <th>ridge_cv</th>\n",
       "    </tr>\n",
       "  </thead>\n",
       "  <tbody>\n",
       "    <tr>\n",
       "      <th>0</th>\n",
       "      <td>MAE</td>\n",
       "      <td>134233.047</td>\n",
       "      <td>43708.645</td>\n",
       "      <td>43765.040</td>\n",
       "    </tr>\n",
       "    <tr>\n",
       "      <th>1</th>\n",
       "      <td>RMSE</td>\n",
       "      <td>165609.119</td>\n",
       "      <td>54947.303</td>\n",
       "      <td>54964.119</td>\n",
       "    </tr>\n",
       "    <tr>\n",
       "      <th>2</th>\n",
       "      <td>R2</td>\n",
       "      <td>-0.008</td>\n",
       "      <td>0.889</td>\n",
       "      <td>0.889</td>\n",
       "    </tr>\n",
       "    <tr>\n",
       "      <th>3</th>\n",
       "      <td>MAPE</td>\n",
       "      <td>24.042</td>\n",
       "      <td>7.425</td>\n",
       "      <td>7.430</td>\n",
       "    </tr>\n",
       "  </tbody>\n",
       "</table>\n",
       "</div>"
      ],
      "text/plain": [
       "  error_type   baseline   lin_reg  ridge_cv\n",
       "0        MAE 134233.047 43708.645 43765.040\n",
       "1       RMSE 165609.119 54947.303 54964.119\n",
       "2         R2     -0.008     0.889     0.889\n",
       "3       MAPE     24.042     7.425     7.430"
      ]
     },
     "execution_count": 73,
     "metadata": {},
     "output_type": "execute_result"
    }
   ],
   "source": [
    "predictions = ridge_cv.predict(X_test)\n",
    "measured_metrics[\"ridge_cv\"] = dataframe_metrics(y_test, predictions)\n",
    "measured_metrics"
   ]
  },
  {
   "cell_type": "markdown",
   "metadata": {},
   "source": [
    "## LassoCV"
   ]
  },
  {
   "cell_type": "code",
   "execution_count": 74,
   "metadata": {},
   "outputs": [
    {
     "data": {
      "text/plain": [
       "LassoCV()"
      ]
     },
     "execution_count": 74,
     "metadata": {},
     "output_type": "execute_result"
    }
   ],
   "source": [
    "lasso_cv = LassoCV()\n",
    "\n",
    "lasso_cv.fit(X_train, y_train)"
   ]
  },
  {
   "cell_type": "code",
   "execution_count": 75,
   "metadata": {},
   "outputs": [
    {
     "data": {
      "text/html": [
       "<div>\n",
       "<style scoped>\n",
       "    .dataframe tbody tr th:only-of-type {\n",
       "        vertical-align: middle;\n",
       "    }\n",
       "\n",
       "    .dataframe tbody tr th {\n",
       "        vertical-align: top;\n",
       "    }\n",
       "\n",
       "    .dataframe thead th {\n",
       "        text-align: right;\n",
       "    }\n",
       "</style>\n",
       "<table border=\"1\" class=\"dataframe\">\n",
       "  <thead>\n",
       "    <tr style=\"text-align: right;\">\n",
       "      <th></th>\n",
       "      <th>error_type</th>\n",
       "      <th>baseline</th>\n",
       "      <th>lin_reg</th>\n",
       "      <th>ridge_cv</th>\n",
       "      <th>lasso_cv</th>\n",
       "    </tr>\n",
       "  </thead>\n",
       "  <tbody>\n",
       "    <tr>\n",
       "      <th>0</th>\n",
       "      <td>MAE</td>\n",
       "      <td>134233.047</td>\n",
       "      <td>43708.645</td>\n",
       "      <td>43765.040</td>\n",
       "      <td>44480.324</td>\n",
       "    </tr>\n",
       "    <tr>\n",
       "      <th>1</th>\n",
       "      <td>RMSE</td>\n",
       "      <td>165609.119</td>\n",
       "      <td>54947.303</td>\n",
       "      <td>54964.119</td>\n",
       "      <td>55419.133</td>\n",
       "    </tr>\n",
       "    <tr>\n",
       "      <th>2</th>\n",
       "      <td>R2</td>\n",
       "      <td>-0.008</td>\n",
       "      <td>0.889</td>\n",
       "      <td>0.889</td>\n",
       "      <td>0.887</td>\n",
       "    </tr>\n",
       "    <tr>\n",
       "      <th>3</th>\n",
       "      <td>MAPE</td>\n",
       "      <td>24.042</td>\n",
       "      <td>7.425</td>\n",
       "      <td>7.430</td>\n",
       "      <td>7.531</td>\n",
       "    </tr>\n",
       "  </tbody>\n",
       "</table>\n",
       "</div>"
      ],
      "text/plain": [
       "  error_type   baseline   lin_reg  ridge_cv  lasso_cv\n",
       "0        MAE 134233.047 43708.645 43765.040 44480.324\n",
       "1       RMSE 165609.119 54947.303 54964.119 55419.133\n",
       "2         R2     -0.008     0.889     0.889     0.887\n",
       "3       MAPE     24.042     7.425     7.430     7.531"
      ]
     },
     "execution_count": 75,
     "metadata": {},
     "output_type": "execute_result"
    },
    {
     "data": {
      "image/png": "[encoded data removed]",
      "text/plain": [
       "<Figure size 1296x432 with 1 Axes>"
      ]
     },
     "metadata": {
      "needs_background": "light"
     },
     "output_type": "display_data"
    }
   ],
   "source": [
    "featureImportance = pd.DataFrame({\"feature\": X_train.columns[lasso_cv.coef_!=0], \n",
    "                                  \"importance\": lasso_cv.coef_[lasso_cv.coef_!=0]})\n",
    "\n",
    "featureImportance.set_index('feature', inplace=True)\n",
    "featureImportance.sort_values([\"importance\"], ascending=False, inplace=True)\n",
    "featureImportance[\"importance\"].plot(kind='bar', figsize=(18, 6));\n",
    "\n",
    "measured_metrics[\"lasso_cv\"] = dataframe_metrics(y_test, lasso_cv.predict(X_test))\n",
    "measured_metrics"
   ]
  },
  {
   "cell_type": "markdown",
   "metadata": {},
   "source": [
    "### Random Forest"
   ]
  },
  {
   "cell_type": "code",
   "execution_count": 76,
   "metadata": {},
   "outputs": [
    {
     "data": {
      "text/html": [
       "<div>\n",
       "<style scoped>\n",
       "    .dataframe tbody tr th:only-of-type {\n",
       "        vertical-align: middle;\n",
       "    }\n",
       "\n",
       "    .dataframe tbody tr th {\n",
       "        vertical-align: top;\n",
       "    }\n",
       "\n",
       "    .dataframe thead th {\n",
       "        text-align: right;\n",
       "    }\n",
       "</style>\n",
       "<table border=\"1\" class=\"dataframe\">\n",
       "  <thead>\n",
       "    <tr style=\"text-align: right;\">\n",
       "      <th></th>\n",
       "      <th>error_type</th>\n",
       "      <th>baseline</th>\n",
       "      <th>lin_reg</th>\n",
       "      <th>ridge_cv</th>\n",
       "      <th>lasso_cv</th>\n",
       "      <th>rf_reg</th>\n",
       "    </tr>\n",
       "  </thead>\n",
       "  <tbody>\n",
       "    <tr>\n",
       "      <th>0</th>\n",
       "      <td>MAE</td>\n",
       "      <td>134233.047</td>\n",
       "      <td>43708.645</td>\n",
       "      <td>43765.040</td>\n",
       "      <td>44480.324</td>\n",
       "      <td>46653.290</td>\n",
       "    </tr>\n",
       "    <tr>\n",
       "      <th>1</th>\n",
       "      <td>RMSE</td>\n",
       "      <td>165609.119</td>\n",
       "      <td>54947.303</td>\n",
       "      <td>54964.119</td>\n",
       "      <td>55419.133</td>\n",
       "      <td>60242.209</td>\n",
       "    </tr>\n",
       "    <tr>\n",
       "      <th>2</th>\n",
       "      <td>R2</td>\n",
       "      <td>-0.008</td>\n",
       "      <td>0.889</td>\n",
       "      <td>0.889</td>\n",
       "      <td>0.887</td>\n",
       "      <td>0.867</td>\n",
       "    </tr>\n",
       "    <tr>\n",
       "      <th>3</th>\n",
       "      <td>MAPE</td>\n",
       "      <td>24.042</td>\n",
       "      <td>7.425</td>\n",
       "      <td>7.430</td>\n",
       "      <td>7.531</td>\n",
       "      <td>7.969</td>\n",
       "    </tr>\n",
       "  </tbody>\n",
       "</table>\n",
       "</div>"
      ],
      "text/plain": [
       "  error_type   baseline   lin_reg  ridge_cv  lasso_cv    rf_reg\n",
       "0        MAE 134233.047 43708.645 43765.040 44480.324 46653.290\n",
       "1       RMSE 165609.119 54947.303 54964.119 55419.133 60242.209\n",
       "2         R2     -0.008     0.889     0.889     0.887     0.867\n",
       "3       MAPE     24.042     7.425     7.430     7.531     7.969"
      ]
     },
     "execution_count": 76,
     "metadata": {},
     "output_type": "execute_result"
    }
   ],
   "source": [
    "rf_reg = RandomForestRegressor(n_jobs=-1)\n",
    "rf_reg.fit(X_train, y_train)\n",
    "\n",
    "measured_metrics[\"rf_reg\"] = dataframe_metrics(y_test, rf_reg.predict(X_test))\n",
    "measured_metrics"
   ]
  },
  {
   "cell_type": "code",
   "execution_count": 77,
   "metadata": {},
   "outputs": [
    {
     "data": {
      "image/png": "[encoded data removed]",
      "text/plain": [
       "<Figure size 1296x432 with 1 Axes>"
      ]
     },
     "metadata": {
      "needs_background": "light"
     },
     "output_type": "display_data"
    }
   ],
   "source": [
    "featureImportance = pd.DataFrame({\"feature\": X_train.columns, \n",
    "                                  \"importance\": rf_reg.feature_importances_})\n",
    "\n",
    "featureImportance.set_index('feature', inplace=True)\n",
    "featureImportance.sort_values([\"importance\"], ascending=False, inplace=True)\n",
    "featureImportance[\"importance\"].plot(kind='bar', figsize=(18, 6));"
   ]
  },
  {
   "cell_type": "markdown",
   "metadata": {},
   "source": [
    "# TEST WITH NLP"
   ]
  },
  {
   "cell_type": "markdown",
   "metadata": {},
   "source": [
    "### Linear Reg"
   ]
  },
  {
   "cell_type": "code",
   "execution_count": 78,
   "metadata": {},
   "outputs": [
    {
     "data": {
      "text/plain": [
       "LinearRegression()"
      ]
     },
     "execution_count": 78,
     "metadata": {},
     "output_type": "execute_result"
    }
   ],
   "source": [
    "lin_reg_nlp = LinearRegression()\n",
    "\n",
    "lin_reg_nlp.fit(X_train_for_nlp, y_train)"
   ]
  },
  {
   "cell_type": "code",
   "execution_count": 79,
   "metadata": {},
   "outputs": [
    {
     "data": {
      "image/png": "[encoded data removed]",
      "text/plain": [
       "<Figure size 1440x432 with 1 Axes>"
      ]
     },
     "metadata": {
      "needs_background": "light"
     },
     "output_type": "display_data"
    }
   ],
   "source": [
    "featureImportance = pd.DataFrame({\"feature\": X_train_for_nlp.columns, \n",
    "                                  \"importance\": lin_reg_nlp.coef_})\n",
    "\n",
    "featureImportance.set_index('feature', inplace=True)\n",
    "featureImportance.sort_values([\"importance\"], ascending=False, inplace=True)\n",
    "featureImportance[\"importance\"].plot(kind='bar', figsize=(20, 6));"
   ]
  },
  {
   "cell_type": "code",
   "execution_count": 80,
   "metadata": {},
   "outputs": [
    {
     "data": {
      "text/html": [
       "<div>\n",
       "<style scoped>\n",
       "    .dataframe tbody tr th:only-of-type {\n",
       "        vertical-align: middle;\n",
       "    }\n",
       "\n",
       "    .dataframe tbody tr th {\n",
       "        vertical-align: top;\n",
       "    }\n",
       "\n",
       "    .dataframe thead th {\n",
       "        text-align: right;\n",
       "    }\n",
       "</style>\n",
       "<table border=\"1\" class=\"dataframe\">\n",
       "  <thead>\n",
       "    <tr style=\"text-align: right;\">\n",
       "      <th></th>\n",
       "      <th>error_type</th>\n",
       "      <th>baseline</th>\n",
       "      <th>lin_reg</th>\n",
       "      <th>ridge_cv</th>\n",
       "      <th>lasso_cv</th>\n",
       "      <th>rf_reg</th>\n",
       "      <th>lin_reg_nlp</th>\n",
       "    </tr>\n",
       "  </thead>\n",
       "  <tbody>\n",
       "    <tr>\n",
       "      <th>0</th>\n",
       "      <td>MAE</td>\n",
       "      <td>134233.047</td>\n",
       "      <td>43708.645</td>\n",
       "      <td>43765.040</td>\n",
       "      <td>44480.324</td>\n",
       "      <td>46653.290</td>\n",
       "      <td>44108.301</td>\n",
       "    </tr>\n",
       "    <tr>\n",
       "      <th>1</th>\n",
       "      <td>RMSE</td>\n",
       "      <td>165609.119</td>\n",
       "      <td>54947.303</td>\n",
       "      <td>54964.119</td>\n",
       "      <td>55419.133</td>\n",
       "      <td>60242.209</td>\n",
       "      <td>55058.993</td>\n",
       "    </tr>\n",
       "    <tr>\n",
       "      <th>2</th>\n",
       "      <td>R2</td>\n",
       "      <td>-0.008</td>\n",
       "      <td>0.889</td>\n",
       "      <td>0.889</td>\n",
       "      <td>0.887</td>\n",
       "      <td>0.867</td>\n",
       "      <td>0.889</td>\n",
       "    </tr>\n",
       "    <tr>\n",
       "      <th>3</th>\n",
       "      <td>MAPE</td>\n",
       "      <td>24.042</td>\n",
       "      <td>7.425</td>\n",
       "      <td>7.430</td>\n",
       "      <td>7.531</td>\n",
       "      <td>7.969</td>\n",
       "      <td>7.503</td>\n",
       "    </tr>\n",
       "  </tbody>\n",
       "</table>\n",
       "</div>"
      ],
      "text/plain": [
       "  error_type   baseline   lin_reg  ridge_cv  lasso_cv    rf_reg  lin_reg_nlp\n",
       "0        MAE 134233.047 43708.645 43765.040 44480.324 46653.290    44108.301\n",
       "1       RMSE 165609.119 54947.303 54964.119 55419.133 60242.209    55058.993\n",
       "2         R2     -0.008     0.889     0.889     0.887     0.867        0.889\n",
       "3       MAPE     24.042     7.425     7.430     7.531     7.969        7.503"
      ]
     },
     "execution_count": 80,
     "metadata": {},
     "output_type": "execute_result"
    }
   ],
   "source": [
    "predictions = lin_reg_nlp.predict(X_test_for_nlp)\n",
    "measured_metrics[\"lin_reg_nlp\"] = dataframe_metrics(y_test, predictions)\n",
    "measured_metrics"
   ]
  },
  {
   "cell_type": "markdown",
   "metadata": {},
   "source": [
    "## RidgeCV"
   ]
  },
  {
   "cell_type": "code",
   "execution_count": 81,
   "metadata": {},
   "outputs": [
    {
     "data": {
      "text/plain": [
       "RidgeCV(alphas=array([ 0.1,  1. , 10. ]))"
      ]
     },
     "execution_count": 81,
     "metadata": {},
     "output_type": "execute_result"
    }
   ],
   "source": [
    "ridge_cv_nlp = RidgeCV()\n",
    "\n",
    "ridge_cv_nlp.fit(X_train_for_nlp, y_train)"
   ]
  },
  {
   "cell_type": "code",
   "execution_count": 82,
   "metadata": {},
   "outputs": [
    {
     "data": {
      "image/png": "[encoded data removed]",
      "text/plain": [
       "<Figure size 1296x432 with 1 Axes>"
      ]
     },
     "metadata": {
      "needs_background": "light"
     },
     "output_type": "display_data"
    }
   ],
   "source": [
    "featureImportance = pd.DataFrame({\"feature\": X_train_for_nlp.columns, \n",
    "                                  \"importance\": ridge_cv_nlp.coef_})\n",
    "\n",
    "featureImportance.set_index('feature', inplace=True)\n",
    "featureImportance.sort_values([\"importance\"], ascending=False, inplace=True)\n",
    "featureImportance[\"importance\"].plot(kind='bar', figsize=(18, 6));"
   ]
  },
  {
   "cell_type": "code",
   "execution_count": 83,
   "metadata": {},
   "outputs": [
    {
     "data": {
      "text/html": [
       "<div>\n",
       "<style scoped>\n",
       "    .dataframe tbody tr th:only-of-type {\n",
       "        vertical-align: middle;\n",
       "    }\n",
       "\n",
       "    .dataframe tbody tr th {\n",
       "        vertical-align: top;\n",
       "    }\n",
       "\n",
       "    .dataframe thead th {\n",
       "        text-align: right;\n",
       "    }\n",
       "</style>\n",
       "<table border=\"1\" class=\"dataframe\">\n",
       "  <thead>\n",
       "    <tr style=\"text-align: right;\">\n",
       "      <th></th>\n",
       "      <th>error_type</th>\n",
       "      <th>baseline</th>\n",
       "      <th>lin_reg</th>\n",
       "      <th>ridge_cv</th>\n",
       "      <th>lasso_cv</th>\n",
       "      <th>rf_reg</th>\n",
       "      <th>lin_reg_nlp</th>\n",
       "      <th>ridge_cv_nlp</th>\n",
       "    </tr>\n",
       "  </thead>\n",
       "  <tbody>\n",
       "    <tr>\n",
       "      <th>0</th>\n",
       "      <td>MAE</td>\n",
       "      <td>134233.047</td>\n",
       "      <td>43708.645</td>\n",
       "      <td>43765.040</td>\n",
       "      <td>44480.324</td>\n",
       "      <td>46653.290</td>\n",
       "      <td>44108.301</td>\n",
       "      <td>43928.801</td>\n",
       "    </tr>\n",
       "    <tr>\n",
       "      <th>1</th>\n",
       "      <td>RMSE</td>\n",
       "      <td>165609.119</td>\n",
       "      <td>54947.303</td>\n",
       "      <td>54964.119</td>\n",
       "      <td>55419.133</td>\n",
       "      <td>60242.209</td>\n",
       "      <td>55058.993</td>\n",
       "      <td>55133.611</td>\n",
       "    </tr>\n",
       "    <tr>\n",
       "      <th>2</th>\n",
       "      <td>R2</td>\n",
       "      <td>-0.008</td>\n",
       "      <td>0.889</td>\n",
       "      <td>0.889</td>\n",
       "      <td>0.887</td>\n",
       "      <td>0.867</td>\n",
       "      <td>0.889</td>\n",
       "      <td>0.888</td>\n",
       "    </tr>\n",
       "    <tr>\n",
       "      <th>3</th>\n",
       "      <td>MAPE</td>\n",
       "      <td>24.042</td>\n",
       "      <td>7.425</td>\n",
       "      <td>7.430</td>\n",
       "      <td>7.531</td>\n",
       "      <td>7.969</td>\n",
       "      <td>7.503</td>\n",
       "      <td>7.460</td>\n",
       "    </tr>\n",
       "  </tbody>\n",
       "</table>\n",
       "</div>"
      ],
      "text/plain": [
       "  error_type   baseline   lin_reg  ridge_cv  lasso_cv    rf_reg  lin_reg_nlp  \\\n",
       "0        MAE 134233.047 43708.645 43765.040 44480.324 46653.290    44108.301   \n",
       "1       RMSE 165609.119 54947.303 54964.119 55419.133 60242.209    55058.993   \n",
       "2         R2     -0.008     0.889     0.889     0.887     0.867        0.889   \n",
       "3       MAPE     24.042     7.425     7.430     7.531     7.969        7.503   \n",
       "\n",
       "   ridge_cv_nlp  \n",
       "0     43928.801  \n",
       "1     55133.611  \n",
       "2         0.888  \n",
       "3         7.460  "
      ]
     },
     "execution_count": 83,
     "metadata": {},
     "output_type": "execute_result"
    }
   ],
   "source": [
    "predictions = ridge_cv_nlp.predict(X_test_for_nlp)\n",
    "measured_metrics[\"ridge_cv_nlp\"] = dataframe_metrics(y_test, predictions)\n",
    "measured_metrics"
   ]
  },
  {
   "cell_type": "markdown",
   "metadata": {},
   "source": [
    "## LassoCV"
   ]
  },
  {
   "cell_type": "code",
   "execution_count": 84,
   "metadata": {},
   "outputs": [
    {
     "data": {
      "text/plain": [
       "LassoCV()"
      ]
     },
     "execution_count": 84,
     "metadata": {},
     "output_type": "execute_result"
    }
   ],
   "source": [
    "lasso_cv_nlp = LassoCV()\n",
    "\n",
    "lasso_cv_nlp.fit(X_train_for_nlp, y_train)"
   ]
  },
  {
   "cell_type": "code",
   "execution_count": 85,
   "metadata": {},
   "outputs": [
    {
     "data": {
      "text/html": [
       "<div>\n",
       "<style scoped>\n",
       "    .dataframe tbody tr th:only-of-type {\n",
       "        vertical-align: middle;\n",
       "    }\n",
       "\n",
       "    .dataframe tbody tr th {\n",
       "        vertical-align: top;\n",
       "    }\n",
       "\n",
       "    .dataframe thead th {\n",
       "        text-align: right;\n",
       "    }\n",
       "</style>\n",
       "<table border=\"1\" class=\"dataframe\">\n",
       "  <thead>\n",
       "    <tr style=\"text-align: right;\">\n",
       "      <th></th>\n",
       "      <th>error_type</th>\n",
       "      <th>baseline</th>\n",
       "      <th>lin_reg</th>\n",
       "      <th>ridge_cv</th>\n",
       "      <th>lasso_cv</th>\n",
       "      <th>rf_reg</th>\n",
       "      <th>lin_reg_nlp</th>\n",
       "      <th>ridge_cv_nlp</th>\n",
       "      <th>lasso_cv_nlp</th>\n",
       "    </tr>\n",
       "  </thead>\n",
       "  <tbody>\n",
       "    <tr>\n",
       "      <th>0</th>\n",
       "      <td>MAE</td>\n",
       "      <td>134233.047</td>\n",
       "      <td>43708.645</td>\n",
       "      <td>43765.040</td>\n",
       "      <td>44480.324</td>\n",
       "      <td>46653.290</td>\n",
       "      <td>44108.301</td>\n",
       "      <td>43928.801</td>\n",
       "      <td>44635.917</td>\n",
       "    </tr>\n",
       "    <tr>\n",
       "      <th>1</th>\n",
       "      <td>RMSE</td>\n",
       "      <td>165609.119</td>\n",
       "      <td>54947.303</td>\n",
       "      <td>54964.119</td>\n",
       "      <td>55419.133</td>\n",
       "      <td>60242.209</td>\n",
       "      <td>55058.993</td>\n",
       "      <td>55133.611</td>\n",
       "      <td>55654.522</td>\n",
       "    </tr>\n",
       "    <tr>\n",
       "      <th>2</th>\n",
       "      <td>R2</td>\n",
       "      <td>-0.008</td>\n",
       "      <td>0.889</td>\n",
       "      <td>0.889</td>\n",
       "      <td>0.887</td>\n",
       "      <td>0.867</td>\n",
       "      <td>0.889</td>\n",
       "      <td>0.888</td>\n",
       "      <td>0.886</td>\n",
       "    </tr>\n",
       "    <tr>\n",
       "      <th>3</th>\n",
       "      <td>MAPE</td>\n",
       "      <td>24.042</td>\n",
       "      <td>7.425</td>\n",
       "      <td>7.430</td>\n",
       "      <td>7.531</td>\n",
       "      <td>7.969</td>\n",
       "      <td>7.503</td>\n",
       "      <td>7.460</td>\n",
       "      <td>7.560</td>\n",
       "    </tr>\n",
       "  </tbody>\n",
       "</table>\n",
       "</div>"
      ],
      "text/plain": [
       "  error_type   baseline   lin_reg  ridge_cv  lasso_cv    rf_reg  lin_reg_nlp  \\\n",
       "0        MAE 134233.047 43708.645 43765.040 44480.324 46653.290    44108.301   \n",
       "1       RMSE 165609.119 54947.303 54964.119 55419.133 60242.209    55058.993   \n",
       "2         R2     -0.008     0.889     0.889     0.887     0.867        0.889   \n",
       "3       MAPE     24.042     7.425     7.430     7.531     7.969        7.503   \n",
       "\n",
       "   ridge_cv_nlp  lasso_cv_nlp  \n",
       "0     43928.801     44635.917  \n",
       "1     55133.611     55654.522  \n",
       "2         0.888         0.886  \n",
       "3         7.460         7.560  "
      ]
     },
     "execution_count": 85,
     "metadata": {},
     "output_type": "execute_result"
    },
    {
     "data": {
      "image/png": "[encoded data removed]",
      "text/plain": [
       "<Figure size 1296x432 with 1 Axes>"
      ]
     },
     "metadata": {
      "needs_background": "light"
     },
     "output_type": "display_data"
    }
   ],
   "source": [
    "featureImportance = pd.DataFrame({\"feature\": X_train_for_nlp.columns[lasso_cv_nlp.coef_!=0], \n",
    "                                  \"importance\": lasso_cv_nlp.coef_[lasso_cv_nlp.coef_!=0]})\n",
    "\n",
    "featureImportance.set_index('feature', inplace=True)\n",
    "featureImportance.sort_values([\"importance\"], ascending=False, inplace=True)\n",
    "featureImportance[\"importance\"].plot(kind='bar', figsize=(18, 6));\n",
    "\n",
    "measured_metrics[\"lasso_cv_nlp\"] = dataframe_metrics(y_test, lasso_cv_nlp.predict(X_test_for_nlp))\n",
    "measured_metrics"
   ]
  },
  {
   "cell_type": "markdown",
   "metadata": {},
   "source": [
    "### Random Forest"
   ]
  },
  {
   "cell_type": "code",
   "execution_count": 86,
   "metadata": {},
   "outputs": [
    {
     "data": {
      "text/html": [
       "<div>\n",
       "<style scoped>\n",
       "    .dataframe tbody tr th:only-of-type {\n",
       "        vertical-align: middle;\n",
       "    }\n",
       "\n",
       "    .dataframe tbody tr th {\n",
       "        vertical-align: top;\n",
       "    }\n",
       "\n",
       "    .dataframe thead th {\n",
       "        text-align: right;\n",
       "    }\n",
       "</style>\n",
       "<table border=\"1\" class=\"dataframe\">\n",
       "  <thead>\n",
       "    <tr style=\"text-align: right;\">\n",
       "      <th></th>\n",
       "      <th>error_type</th>\n",
       "      <th>baseline</th>\n",
       "      <th>lin_reg</th>\n",
       "      <th>ridge_cv</th>\n",
       "      <th>lasso_cv</th>\n",
       "      <th>rf_reg</th>\n",
       "      <th>lin_reg_nlp</th>\n",
       "      <th>ridge_cv_nlp</th>\n",
       "      <th>lasso_cv_nlp</th>\n",
       "      <th>rf_reg_nlp</th>\n",
       "    </tr>\n",
       "  </thead>\n",
       "  <tbody>\n",
       "    <tr>\n",
       "      <th>0</th>\n",
       "      <td>MAE</td>\n",
       "      <td>134233.047</td>\n",
       "      <td>43708.645</td>\n",
       "      <td>43765.040</td>\n",
       "      <td>44480.324</td>\n",
       "      <td>46653.290</td>\n",
       "      <td>44108.301</td>\n",
       "      <td>43928.801</td>\n",
       "      <td>44635.917</td>\n",
       "      <td>44655.963</td>\n",
       "    </tr>\n",
       "    <tr>\n",
       "      <th>1</th>\n",
       "      <td>RMSE</td>\n",
       "      <td>165609.119</td>\n",
       "      <td>54947.303</td>\n",
       "      <td>54964.119</td>\n",
       "      <td>55419.133</td>\n",
       "      <td>60242.209</td>\n",
       "      <td>55058.993</td>\n",
       "      <td>55133.611</td>\n",
       "      <td>55654.522</td>\n",
       "      <td>58778.885</td>\n",
       "    </tr>\n",
       "    <tr>\n",
       "      <th>2</th>\n",
       "      <td>R2</td>\n",
       "      <td>-0.008</td>\n",
       "      <td>0.889</td>\n",
       "      <td>0.889</td>\n",
       "      <td>0.887</td>\n",
       "      <td>0.867</td>\n",
       "      <td>0.889</td>\n",
       "      <td>0.888</td>\n",
       "      <td>0.886</td>\n",
       "      <td>0.873</td>\n",
       "    </tr>\n",
       "    <tr>\n",
       "      <th>3</th>\n",
       "      <td>MAPE</td>\n",
       "      <td>24.042</td>\n",
       "      <td>7.425</td>\n",
       "      <td>7.430</td>\n",
       "      <td>7.531</td>\n",
       "      <td>7.969</td>\n",
       "      <td>7.503</td>\n",
       "      <td>7.460</td>\n",
       "      <td>7.560</td>\n",
       "      <td>7.651</td>\n",
       "    </tr>\n",
       "  </tbody>\n",
       "</table>\n",
       "</div>"
      ],
      "text/plain": [
       "  error_type   baseline   lin_reg  ridge_cv  lasso_cv    rf_reg  lin_reg_nlp  \\\n",
       "0        MAE 134233.047 43708.645 43765.040 44480.324 46653.290    44108.301   \n",
       "1       RMSE 165609.119 54947.303 54964.119 55419.133 60242.209    55058.993   \n",
       "2         R2     -0.008     0.889     0.889     0.887     0.867        0.889   \n",
       "3       MAPE     24.042     7.425     7.430     7.531     7.969        7.503   \n",
       "\n",
       "   ridge_cv_nlp  lasso_cv_nlp  rf_reg_nlp  \n",
       "0     43928.801     44635.917   44655.963  \n",
       "1     55133.611     55654.522   58778.885  \n",
       "2         0.888         0.886       0.873  \n",
       "3         7.460         7.560       7.651  "
      ]
     },
     "execution_count": 86,
     "metadata": {},
     "output_type": "execute_result"
    }
   ],
   "source": [
    "rf_reg_nlp = RandomForestRegressor(n_jobs=-1)\n",
    "rf_reg_nlp.fit(X_train_for_nlp, y_train)\n",
    "\n",
    "measured_metrics[\"rf_reg_nlp\"] = dataframe_metrics(y_test, rf_reg_nlp.predict(X_test_for_nlp))\n",
    "measured_metrics"
   ]
  },
  {
   "cell_type": "code",
   "execution_count": 87,
   "metadata": {},
   "outputs": [
    {
     "data": {
      "image/png": "[encoded data removed]",
      "text/plain": [
       "<Figure size 1296x432 with 1 Axes>"
      ]
     },
     "metadata": {
      "needs_background": "light"
     },
     "output_type": "display_data"
    }
   ],
   "source": [
    "featureImportance = pd.DataFrame({\"feature\": X_train_for_nlp.columns, \n",
    "                                  \"importance\": rf_reg_nlp.feature_importances_})\n",
    "\n",
    "featureImportance.set_index('feature', inplace=True)\n",
    "featureImportance.sort_values([\"importance\"], ascending=False, inplace=True)\n",
    "featureImportance[\"importance\"].plot(kind='bar', figsize=(18, 6));"
   ]
  },
  {
   "cell_type": "code",
   "execution_count": 88,
   "metadata": {},
   "outputs": [
    {
     "data": {
      "text/html": [
       "<div>\n",
       "<style scoped>\n",
       "    .dataframe tbody tr th:only-of-type {\n",
       "        vertical-align: middle;\n",
       "    }\n",
       "\n",
       "    .dataframe tbody tr th {\n",
       "        vertical-align: top;\n",
       "    }\n",
       "\n",
       "    .dataframe thead th {\n",
       "        text-align: right;\n",
       "    }\n",
       "</style>\n",
       "<table border=\"1\" class=\"dataframe\">\n",
       "  <thead>\n",
       "    <tr style=\"text-align: right;\">\n",
       "      <th></th>\n",
       "      <th>error_type</th>\n",
       "      <th>baseline</th>\n",
       "      <th>lin_reg</th>\n",
       "      <th>ridge_cv</th>\n",
       "      <th>lasso_cv</th>\n",
       "      <th>rf_reg</th>\n",
       "      <th>lin_reg_nlp</th>\n",
       "      <th>ridge_cv_nlp</th>\n",
       "      <th>lasso_cv_nlp</th>\n",
       "      <th>rf_reg_nlp</th>\n",
       "    </tr>\n",
       "  </thead>\n",
       "  <tbody>\n",
       "    <tr>\n",
       "      <th>0</th>\n",
       "      <td>MAE</td>\n",
       "      <td>134233.047</td>\n",
       "      <td>43708.645</td>\n",
       "      <td>43765.040</td>\n",
       "      <td>44480.324</td>\n",
       "      <td>46653.290</td>\n",
       "      <td>44108.301</td>\n",
       "      <td>43928.801</td>\n",
       "      <td>44635.917</td>\n",
       "      <td>44655.963</td>\n",
       "    </tr>\n",
       "    <tr>\n",
       "      <th>1</th>\n",
       "      <td>RMSE</td>\n",
       "      <td>165609.119</td>\n",
       "      <td>54947.303</td>\n",
       "      <td>54964.119</td>\n",
       "      <td>55419.133</td>\n",
       "      <td>60242.209</td>\n",
       "      <td>55058.993</td>\n",
       "      <td>55133.611</td>\n",
       "      <td>55654.522</td>\n",
       "      <td>58778.885</td>\n",
       "    </tr>\n",
       "    <tr>\n",
       "      <th>2</th>\n",
       "      <td>R2</td>\n",
       "      <td>-0.008</td>\n",
       "      <td>0.889</td>\n",
       "      <td>0.889</td>\n",
       "      <td>0.887</td>\n",
       "      <td>0.867</td>\n",
       "      <td>0.889</td>\n",
       "      <td>0.888</td>\n",
       "      <td>0.886</td>\n",
       "      <td>0.873</td>\n",
       "    </tr>\n",
       "    <tr>\n",
       "      <th>3</th>\n",
       "      <td>MAPE</td>\n",
       "      <td>24.042</td>\n",
       "      <td>7.425</td>\n",
       "      <td>7.430</td>\n",
       "      <td>7.531</td>\n",
       "      <td>7.969</td>\n",
       "      <td>7.503</td>\n",
       "      <td>7.460</td>\n",
       "      <td>7.560</td>\n",
       "      <td>7.651</td>\n",
       "    </tr>\n",
       "  </tbody>\n",
       "</table>\n",
       "</div>"
      ],
      "text/plain": [
       "  error_type   baseline   lin_reg  ridge_cv  lasso_cv    rf_reg  lin_reg_nlp  \\\n",
       "0        MAE 134233.047 43708.645 43765.040 44480.324 46653.290    44108.301   \n",
       "1       RMSE 165609.119 54947.303 54964.119 55419.133 60242.209    55058.993   \n",
       "2         R2     -0.008     0.889     0.889     0.887     0.867        0.889   \n",
       "3       MAPE     24.042     7.425     7.430     7.531     7.969        7.503   \n",
       "\n",
       "   ridge_cv_nlp  lasso_cv_nlp  rf_reg_nlp  \n",
       "0     43928.801     44635.917   44655.963  \n",
       "1     55133.611     55654.522   58778.885  \n",
       "2         0.888         0.886       0.873  \n",
       "3         7.460         7.560       7.651  "
      ]
     },
     "execution_count": 88,
     "metadata": {},
     "output_type": "execute_result"
    }
   ],
   "source": [
    "measured_metrics"
   ]
  },
  {
   "cell_type": "code",
   "execution_count": null,
   "metadata": {},
   "outputs": [],
   "source": []
  }
 ],
 "metadata": {
  "kernelspec": {
   "display_name": "data_science",
   "language": "python",
   "name": "data_science"
  },
  "language_info": {
   "codemirror_mode": {
    "name": "ipython",
    "version": 3
   },
   "file_extension": ".py",
   "mimetype": "text/x-python",
   "name": "python",
   "nbconvert_exporter": "python",
   "pygments_lexer": "ipython3",
   "version": "3.8.5"
  }
 },
 "nbformat": 4,
 "nbformat_minor": 4
}
