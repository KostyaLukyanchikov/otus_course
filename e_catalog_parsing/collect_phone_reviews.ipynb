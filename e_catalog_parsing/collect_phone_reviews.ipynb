{
 "cells": [
  {
   "cell_type": "code",
   "execution_count": 109,
   "metadata": {},
   "outputs": [],
   "source": [
    "import math\n",
    "import json\n",
    "\n",
    "import pandas as pd\n",
    "\n",
    "from tqdm import tqdm\n",
    "\n",
    "import requests\n",
    "import html5lib\n",
    "from bs4 import BeautifulSoup\n",
    "\n",
    "from stem import Signal\n",
    "from stem.control import Controller\n",
    "\n",
    "from fake_useragent import UserAgent\n",
    "\n",
    "from tqdm.notebook import tqdm"
   ]
  },
  {
   "cell_type": "code",
   "execution_count": 2,
   "metadata": {},
   "outputs": [],
   "source": [
    "def get_request(url):\n",
    "    renew_tor_ip()\n",
    "    \n",
    "    user_agent = UserAgent().chrome\n",
    "    headers = {'User-Agent': user_agent}\n",
    "    \n",
    "    \n",
    "    session = requests.session()\n",
    "\n",
    "    session.proxies = {}\n",
    "    session.proxies['http']='socks5h://localhost:9050'\n",
    "    session.proxies['https']='socks5h://localhost:9050'\n",
    "\n",
    "    try:\n",
    "        r = session.get(url, headers=headers)\n",
    "    except Exception as e:\n",
    "        print(str(e))\n",
    "    else:\n",
    "        return r   \n",
    "\n",
    "def renew_tor_ip():\n",
    "    with Controller.from_port(port = 9051) as controller:\n",
    "        controller.authenticate(password=\"tor_for_parsing\")\n",
    "        controller.signal(Signal.NEWNYM)"
   ]
  },
  {
   "cell_type": "code",
   "execution_count": 4,
   "metadata": {
    "collapsed": true,
    "jupyter": {
     "outputs_hidden": true
    }
   },
   "outputs": [
    {
     "name": "stdout",
     "output_type": "stream",
     "text": [
      "24\n",
      "48\n",
      "72\n",
      "96\n",
      "120\n",
      "144\n",
      "168\n",
      "192\n",
      "216\n",
      "240\n",
      "264\n",
      "288\n",
      "312\n",
      "336\n",
      "360\n",
      "382\n",
      "405\n",
      "425\n",
      "449\n",
      "473\n",
      "497\n",
      "521\n",
      "543\n",
      "565\n",
      "587\n",
      "611\n",
      "631\n",
      "631\n"
     ]
    }
   ],
   "source": [
    "url_with_phones = 'https://www.e-katalog.ru/ek-list.php?katalog_=122&order_=reviews&page_={}'\n",
    "\n",
    "pages_to_scrape = 28\n",
    "phones_with_reviews = []\n",
    "\n",
    "for page_num in range(pages_to_scrape):\n",
    "    response = get_request(url_with_phones.format(page_num))\n",
    "    soup = BeautifulSoup(response.text, 'html5lib')\n",
    "    phones = soup.find_all('table', {'class': 'model-short-block'})\n",
    "    \n",
    "    for phone in phones:\n",
    "        phone_first_param = phone.select_one('a[class=\"ib\"]')\n",
    "        if phone_first_param:\n",
    "            reviews = phone_first_param.find('u')\n",
    "            reviews_link = phone_first_param['link']\n",
    "            if reviews.text == 'Отзывы' and '/review/' in reviews_link:\n",
    "                phones_with_reviews.append(reviews_link) if reviews_link not in phones_with_reviews else None\n",
    "            else:\n",
    "                break\n",
    "        else:\n",
    "            break\n",
    "    \n",
    "    print(len(phones_with_reviews))"
   ]
  },
  {
   "cell_type": "code",
   "execution_count": 5,
   "metadata": {},
   "outputs": [],
   "source": [
    "main_url = 'https://www.e-katalog.ru'"
   ]
  },
  {
   "cell_type": "code",
   "execution_count": 6,
   "metadata": {},
   "outputs": [
    {
     "data": {
      "text/plain": [
       "'/review/xiaomi-redmi-note-9-pro-128gb/'"
      ]
     },
     "execution_count": 6,
     "metadata": {},
     "output_type": "execute_result"
    }
   ],
   "source": [
    "phones_with_reviews[0]"
   ]
  },
  {
   "cell_type": "code",
   "execution_count": 105,
   "metadata": {},
   "outputs": [],
   "source": [
    "def append_first_10_reviews_to_df(page_soup, data_frame):\n",
    "\n",
    "    reviews = page_soup.find_all('div', {'class': 'review'})\n",
    "\n",
    "    for review in reviews:\n",
    "\n",
    "        review_title = review.find('div', {'class': 'review-title'})\n",
    "        review_type = review_title.find('img').get('src')\n",
    "\n",
    "        review_description_elements = []\n",
    "\n",
    "        review_description_elements.append(review_title)\n",
    "        review_description_elements.append(review.find('div', {'class': 'review-comment'}))\n",
    "        review_description_elements.append(review.find('div', {'class': 'review-plus'}))\n",
    "        review_description_elements.append(review.find('div', {'class': 'review-minus'}))\n",
    "\n",
    "        review_description_elements_filled = []\n",
    "\n",
    "        for review_element in review_description_elements:\n",
    "            if review_element:\n",
    "                review_description_elements_filled.append(review_element.text)\n",
    "\n",
    "        review_text = ' '.join(review_description_elements_filled).replace('\\n', ' ').replace('  ', ' ')\n",
    "        \n",
    "        data_frame = data_frame.append({'review': review_text, 'type': review_type}, ignore_index=True)\n",
    "\n",
    "    return data_frame"
   ]
  },
  {
   "cell_type": "code",
   "execution_count": 110,
   "metadata": {},
   "outputs": [],
   "source": [
    "df = pd.DataFrame(columns=['review', 'type'])"
   ]
  },
  {
   "cell_type": "code",
   "execution_count": 111,
   "metadata": {},
   "outputs": [
    {
     "data": {
      "application/vnd.jupyter.widget-view+json": {
       "model_id": "9f0629f0dd964fb38f569151bb6c0b74",
       "version_major": 2,
       "version_minor": 0
      },
      "text/plain": [
       "HBox(children=(HTML(value=''), FloatProgress(value=0.0, max=631.0), HTML(value='')))"
      ]
     },
     "metadata": {},
     "output_type": "display_data"
    },
    {
     "name": "stdout",
     "output_type": "stream",
     "text": [
      "\n"
     ]
    }
   ],
   "source": [
    "for phone in tqdm(phones_with_reviews):\n",
    "\n",
    "    response = get_request(main_url + phone)\n",
    "    soup = BeautifulSoup(response.text, 'html5lib')\n",
    "    reviews = soup.find_all('div', {'class': 'review'})\n",
    "    \n",
    "    df = append_first_10_reviews_to_df(soup, df)"
   ]
  },
  {
   "cell_type": "code",
   "execution_count": 118,
   "metadata": {},
   "outputs": [],
   "source": [
    "df = df.drop_duplicates()"
   ]
  },
  {
   "cell_type": "code",
   "execution_count": 119,
   "metadata": {},
   "outputs": [],
   "source": [
    "df.to_csv('e-catalog_phone_reviews.csv')"
   ]
  },
  {
   "cell_type": "code",
   "execution_count": null,
   "metadata": {},
   "outputs": [],
   "source": []
  }
 ],
 "metadata": {
  "kernelspec": {
   "display_name": "data_science",
   "language": "python",
   "name": "data_science"
  },
  "language_info": {
   "codemirror_mode": {
    "name": "ipython",
    "version": 3
   },
   "file_extension": ".py",
   "mimetype": "text/x-python",
   "name": "python",
   "nbconvert_exporter": "python",
   "pygments_lexer": "ipython3",
   "version": "3.8.5"
  }
 },
 "nbformat": 4,
 "nbformat_minor": 4
}
